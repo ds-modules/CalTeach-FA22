{
 "cells": [
  {
   "cell_type": "markdown",
   "id": "365946e2",
   "metadata": {},
   "source": [
    "# [CalTeach Fall 2022] Avocado Analysis\n",
    "\n",
    "**Notebook Developed By:** Abigail Yu, Jonathan Ferrari\n",
    "\n",
    "### Learning Outcomes\n",
    "\n",
    "In this notebook, you will learn:\n",
    "- how to understand, perform, and analyze results of a _t-test_ using data that you have collected.\n",
    "- more?\n",
    "\n",
    "### Table of Contents\n",
    "1. [Introduction](#0) <br>\n",
    "1. [What is a t-test?](#1) <br>\n",
    "1. [Background on t-tests](#2) <br>\n",
    "1. [The first step of a t-test](#3) <br>\n",
    "1. [p-value](#4) <br>\n",
    "1. [Performing a t-test without a calculator](#5) <br>\n",
    "1. [Performing a t-test with a calculator](#6) <br>\n",
    "1. [Finding $t$](#7) <br>\n",
    "1. [Visualizing the results](#8) <br>\n",
    "1. [Analyze the p-value](#9) <br>\n",
    "1. [Conclusion](#10) <br>\n",
    "1. [Feedback Form](#11)<br>\n",
    "\n",
    "-------------------------------------------------------------------"
   ]
  },
  {
   "cell_type": "code",
   "execution_count": 21,
   "id": "b67ca747",
   "metadata": {},
   "outputs": [],
   "source": [
    "from scipy.stats import norm\n",
    "import numpy as np\n",
    "import pandas as pd\n",
    "import seaborn as sns\n",
    "import numpy as np\n",
    "import matplotlib.pyplot as plt\n",
    "%matplotlib inline"
   ]
  },
  {
   "cell_type": "markdown",
   "id": "7280d688",
   "metadata": {},
   "source": [
    "# 1. Introduction <a id='0'></a>\n",
    "\n",
    "Avocados. From guacamole to morning toast, avocados have risen in popularity immensely. They are used in salads and salsas, spring rolls and sandwiches – they are even snuck into chocolatey brownies! But of course, if more and more people want a product, what do you think will happen to the price?\n",
    "\n",
    "Let’s make a hypothesis of what you expect the price of avocados to look like overtime if more and more people continue to want them? In your hypothesis, include your:\n",
    "\n",
    "**Claim:** “Avocado prices will rise/drop/stay the same/etc.”\n",
    "\n",
    "**Explanation:** “because….”\n",
    "\n",
    "Type below:"
   ]
  },
  {
   "cell_type": "markdown",
   "id": "397cf69a",
   "metadata": {},
   "source": [
    "<code><b>Double-click to replace this and type your answer here!</b></code>"
   ]
  },
  {
   "cell_type": "markdown",
   "id": "9722046c",
   "metadata": {},
   "source": [
    "# 2. What is a t-test? <a id='1'></a>\n",
    "\n",
    "How can we look at changes overtime? Well, luckily the Hass Avocado Board has an extensive national dataset of avocado prices (and more!) from 2015 and onwards.\n",
    "\n",
    "Let’s take a look at a random sample of the avocado prices in 2019 and 2022 from California:\n",
    "> [FOR JONATHAN: [here is a link for the dataset from 2019](https://hassavocadoboard.com/category-data/?region=California&y=2019) and [here is the link for the dataset from 2022](https://hassavocadoboard.com/category-data/?region=California&y=2022) you may need to scroll down until you find the “Totals by PLU” box and download the csv that says “Download 2019/22 Weekly Retail Volume and Price Report”; I had to make an account to access this, but it is free and takes a couple of seconds! I’m not sure how to access this data and get a random sample of about 50 prices from each data set, so let’s talk further about that!\n",
    "Ideally, the random sample should be formatted in a graph that shows some sort of distribution (like scatter plot or bar graph! [edit: I recently learned that a KDE exists? these might work too!])\n",
    "I’m not sure of the extent for Jupyter graphs/visuals, but if it could have the option to display the 2019 graph only, 2022 graph only, and both at the same time, that would be awesome here!]"
   ]
  },
  {
   "cell_type": "code",
   "execution_count": 22,
   "id": "b14683a1",
   "metadata": {
    "scrolled": true
   },
   "outputs": [
    {
     "data": {
      "text/html": [
       "<div>\n",
       "<style scoped>\n",
       "    .dataframe tbody tr th:only-of-type {\n",
       "        vertical-align: middle;\n",
       "    }\n",
       "\n",
       "    .dataframe tbody tr th {\n",
       "        vertical-align: top;\n",
       "    }\n",
       "\n",
       "    .dataframe thead th {\n",
       "        text-align: right;\n",
       "    }\n",
       "</style>\n",
       "<table border=\"1\" class=\"dataframe\">\n",
       "  <thead>\n",
       "    <tr style=\"text-align: right;\">\n",
       "      <th></th>\n",
       "      <th>Geography</th>\n",
       "      <th>Timeframe</th>\n",
       "      <th>Current Year Week Ending</th>\n",
       "      <th>Type</th>\n",
       "      <th>ASP Current Year</th>\n",
       "      <th>Total Bulk and Bags Units</th>\n",
       "      <th>4046 Units</th>\n",
       "      <th>4225 Units</th>\n",
       "      <th>4770 Units</th>\n",
       "      <th>TotalBagged Units</th>\n",
       "      <th>SmlBagged Units</th>\n",
       "      <th>LrgBagged Units</th>\n",
       "      <th>X-LrgBagged Units</th>\n",
       "      <th>Bulk GTIN</th>\n",
       "    </tr>\n",
       "  </thead>\n",
       "  <tbody>\n",
       "    <tr>\n",
       "      <th>0</th>\n",
       "      <td>Albany</td>\n",
       "      <td>Weekly</td>\n",
       "      <td>2019-01-07 00:00:00</td>\n",
       "      <td>Conventional</td>\n",
       "      <td>0.921802</td>\n",
       "      <td>111277.47</td>\n",
       "      <td>3541.90</td>\n",
       "      <td>95713.80</td>\n",
       "      <td>149.31</td>\n",
       "      <td>10904.73</td>\n",
       "      <td>0.0</td>\n",
       "      <td>0.0</td>\n",
       "      <td>0.0</td>\n",
       "      <td>967.73</td>\n",
       "    </tr>\n",
       "    <tr>\n",
       "      <th>1</th>\n",
       "      <td>Albany</td>\n",
       "      <td>Weekly</td>\n",
       "      <td>2019-01-13 00:00:00</td>\n",
       "      <td>Conventional</td>\n",
       "      <td>0.906561</td>\n",
       "      <td>115663.46</td>\n",
       "      <td>2920.69</td>\n",
       "      <td>101796.05</td>\n",
       "      <td>181.26</td>\n",
       "      <td>10072.66</td>\n",
       "      <td>0.0</td>\n",
       "      <td>0.0</td>\n",
       "      <td>0.0</td>\n",
       "      <td>692.81</td>\n",
       "    </tr>\n",
       "    <tr>\n",
       "      <th>2</th>\n",
       "      <td>Albany</td>\n",
       "      <td>Weekly</td>\n",
       "      <td>2019-01-20 00:00:00</td>\n",
       "      <td>Conventional</td>\n",
       "      <td>0.998831</td>\n",
       "      <td>146107.67</td>\n",
       "      <td>4322.20</td>\n",
       "      <td>123402.11</td>\n",
       "      <td>179.63</td>\n",
       "      <td>17223.11</td>\n",
       "      <td>0.0</td>\n",
       "      <td>0.0</td>\n",
       "      <td>0.0</td>\n",
       "      <td>980.61</td>\n",
       "    </tr>\n",
       "    <tr>\n",
       "      <th>3</th>\n",
       "      <td>Albany</td>\n",
       "      <td>Weekly</td>\n",
       "      <td>2019-01-27 00:00:00</td>\n",
       "      <td>Conventional</td>\n",
       "      <td>1.052065</td>\n",
       "      <td>80297.47</td>\n",
       "      <td>3380.41</td>\n",
       "      <td>64018.59</td>\n",
       "      <td>210.82</td>\n",
       "      <td>11065.69</td>\n",
       "      <td>0.0</td>\n",
       "      <td>0.0</td>\n",
       "      <td>0.0</td>\n",
       "      <td>1621.96</td>\n",
       "    </tr>\n",
       "    <tr>\n",
       "      <th>4</th>\n",
       "      <td>Albany</td>\n",
       "      <td>Weekly</td>\n",
       "      <td>2019-02-03 00:00:00</td>\n",
       "      <td>Conventional</td>\n",
       "      <td>0.798758</td>\n",
       "      <td>186952.91</td>\n",
       "      <td>4371.56</td>\n",
       "      <td>169578.61</td>\n",
       "      <td>357.67</td>\n",
       "      <td>11217.30</td>\n",
       "      <td>0.0</td>\n",
       "      <td>0.0</td>\n",
       "      <td>0.0</td>\n",
       "      <td>1427.77</td>\n",
       "    </tr>\n",
       "    <tr>\n",
       "      <th>...</th>\n",
       "      <td>...</td>\n",
       "      <td>...</td>\n",
       "      <td>...</td>\n",
       "      <td>...</td>\n",
       "      <td>...</td>\n",
       "      <td>...</td>\n",
       "      <td>...</td>\n",
       "      <td>...</td>\n",
       "      <td>...</td>\n",
       "      <td>...</td>\n",
       "      <td>...</td>\n",
       "      <td>...</td>\n",
       "      <td>...</td>\n",
       "      <td>...</td>\n",
       "    </tr>\n",
       "    <tr>\n",
       "      <th>6132</th>\n",
       "      <td>Total U.S.</td>\n",
       "      <td>Weekly</td>\n",
       "      <td>2019-12-08 00:00:00</td>\n",
       "      <td>Organic</td>\n",
       "      <td>1.583437</td>\n",
       "      <td>1206173.19</td>\n",
       "      <td>81966.85</td>\n",
       "      <td>105558.48</td>\n",
       "      <td>2637.20</td>\n",
       "      <td>615775.90</td>\n",
       "      <td>0.0</td>\n",
       "      <td>0.0</td>\n",
       "      <td>0.0</td>\n",
       "      <td>400234.76</td>\n",
       "    </tr>\n",
       "    <tr>\n",
       "      <th>6133</th>\n",
       "      <td>Total U.S.</td>\n",
       "      <td>Weekly</td>\n",
       "      <td>2019-12-15 00:00:00</td>\n",
       "      <td>Organic</td>\n",
       "      <td>1.587130</td>\n",
       "      <td>1194675.71</td>\n",
       "      <td>75094.12</td>\n",
       "      <td>101804.89</td>\n",
       "      <td>1585.72</td>\n",
       "      <td>659339.34</td>\n",
       "      <td>0.0</td>\n",
       "      <td>0.0</td>\n",
       "      <td>0.0</td>\n",
       "      <td>356851.64</td>\n",
       "    </tr>\n",
       "    <tr>\n",
       "      <th>6134</th>\n",
       "      <td>Total U.S.</td>\n",
       "      <td>Weekly</td>\n",
       "      <td>2019-12-22 00:00:00</td>\n",
       "      <td>Organic</td>\n",
       "      <td>1.634366</td>\n",
       "      <td>1244018.95</td>\n",
       "      <td>124288.99</td>\n",
       "      <td>137682.25</td>\n",
       "      <td>2436.88</td>\n",
       "      <td>576748.74</td>\n",
       "      <td>0.0</td>\n",
       "      <td>0.0</td>\n",
       "      <td>0.0</td>\n",
       "      <td>402862.07</td>\n",
       "    </tr>\n",
       "    <tr>\n",
       "      <th>6135</th>\n",
       "      <td>Total U.S.</td>\n",
       "      <td>Weekly</td>\n",
       "      <td>2019-12-29 00:00:00</td>\n",
       "      <td>Organic</td>\n",
       "      <td>1.577548</td>\n",
       "      <td>1189311.69</td>\n",
       "      <td>91737.68</td>\n",
       "      <td>123829.81</td>\n",
       "      <td>1565.69</td>\n",
       "      <td>507016.04</td>\n",
       "      <td>0.0</td>\n",
       "      <td>0.0</td>\n",
       "      <td>0.0</td>\n",
       "      <td>465162.47</td>\n",
       "    </tr>\n",
       "    <tr>\n",
       "      <th>6136</th>\n",
       "      <td>Source: IRI confidential information. HAB's ca...</td>\n",
       "      <td>NaN</td>\n",
       "      <td>NaN</td>\n",
       "      <td>NaN</td>\n",
       "      <td>NaN</td>\n",
       "      <td>NaN</td>\n",
       "      <td>NaN</td>\n",
       "      <td>NaN</td>\n",
       "      <td>NaN</td>\n",
       "      <td>NaN</td>\n",
       "      <td>NaN</td>\n",
       "      <td>NaN</td>\n",
       "      <td>NaN</td>\n",
       "      <td>NaN</td>\n",
       "    </tr>\n",
       "  </tbody>\n",
       "</table>\n",
       "<p>6137 rows × 14 columns</p>\n",
       "</div>"
      ],
      "text/plain": [
       "                                              Geography Timeframe  \\\n",
       "0                                                Albany    Weekly   \n",
       "1                                                Albany    Weekly   \n",
       "2                                                Albany    Weekly   \n",
       "3                                                Albany    Weekly   \n",
       "4                                                Albany    Weekly   \n",
       "...                                                 ...       ...   \n",
       "6132                                         Total U.S.    Weekly   \n",
       "6133                                         Total U.S.    Weekly   \n",
       "6134                                         Total U.S.    Weekly   \n",
       "6135                                         Total U.S.    Weekly   \n",
       "6136  Source: IRI confidential information. HAB's ca...       NaN   \n",
       "\n",
       "     Current Year Week Ending          Type  ASP Current Year  \\\n",
       "0         2019-01-07 00:00:00  Conventional          0.921802   \n",
       "1         2019-01-13 00:00:00  Conventional          0.906561   \n",
       "2         2019-01-20 00:00:00  Conventional          0.998831   \n",
       "3         2019-01-27 00:00:00  Conventional          1.052065   \n",
       "4         2019-02-03 00:00:00  Conventional          0.798758   \n",
       "...                       ...           ...               ...   \n",
       "6132      2019-12-08 00:00:00       Organic          1.583437   \n",
       "6133      2019-12-15 00:00:00       Organic          1.587130   \n",
       "6134      2019-12-22 00:00:00       Organic          1.634366   \n",
       "6135      2019-12-29 00:00:00       Organic          1.577548   \n",
       "6136                      NaN           NaN               NaN   \n",
       "\n",
       "      Total Bulk and Bags Units  4046 Units  4225 Units  4770 Units  \\\n",
       "0                     111277.47     3541.90    95713.80      149.31   \n",
       "1                     115663.46     2920.69   101796.05      181.26   \n",
       "2                     146107.67     4322.20   123402.11      179.63   \n",
       "3                      80297.47     3380.41    64018.59      210.82   \n",
       "4                     186952.91     4371.56   169578.61      357.67   \n",
       "...                         ...         ...         ...         ...   \n",
       "6132                 1206173.19    81966.85   105558.48     2637.20   \n",
       "6133                 1194675.71    75094.12   101804.89     1585.72   \n",
       "6134                 1244018.95   124288.99   137682.25     2436.88   \n",
       "6135                 1189311.69    91737.68   123829.81     1565.69   \n",
       "6136                        NaN         NaN         NaN         NaN   \n",
       "\n",
       "      TotalBagged Units  SmlBagged Units  LrgBagged Units  X-LrgBagged Units  \\\n",
       "0              10904.73              0.0              0.0                0.0   \n",
       "1              10072.66              0.0              0.0                0.0   \n",
       "2              17223.11              0.0              0.0                0.0   \n",
       "3              11065.69              0.0              0.0                0.0   \n",
       "4              11217.30              0.0              0.0                0.0   \n",
       "...                 ...              ...              ...                ...   \n",
       "6132          615775.90              0.0              0.0                0.0   \n",
       "6133          659339.34              0.0              0.0                0.0   \n",
       "6134          576748.74              0.0              0.0                0.0   \n",
       "6135          507016.04              0.0              0.0                0.0   \n",
       "6136                NaN              NaN              NaN                NaN   \n",
       "\n",
       "      Bulk GTIN  \n",
       "0        967.73  \n",
       "1        692.81  \n",
       "2        980.61  \n",
       "3       1621.96  \n",
       "4       1427.77  \n",
       "...         ...  \n",
       "6132  400234.76  \n",
       "6133  356851.64  \n",
       "6134  402862.07  \n",
       "6135  465162.47  \n",
       "6136        NaN  \n",
       "\n",
       "[6137 rows x 14 columns]"
      ]
     },
     "execution_count": 22,
     "metadata": {},
     "output_type": "execute_result"
    }
   ],
   "source": [
    "haas_prices_2019 = pd.read_csv('2019-plu-total-hab.csv')\n",
    "haas_prices_2019"
   ]
  },
  {
   "cell_type": "code",
   "execution_count": 23,
   "id": "6b29ef4c",
   "metadata": {},
   "outputs": [
    {
     "data": {
      "text/html": [
       "<div>\n",
       "<style scoped>\n",
       "    .dataframe tbody tr th:only-of-type {\n",
       "        vertical-align: middle;\n",
       "    }\n",
       "\n",
       "    .dataframe tbody tr th {\n",
       "        vertical-align: top;\n",
       "    }\n",
       "\n",
       "    .dataframe thead th {\n",
       "        text-align: right;\n",
       "    }\n",
       "</style>\n",
       "<table border=\"1\" class=\"dataframe\">\n",
       "  <thead>\n",
       "    <tr style=\"text-align: right;\">\n",
       "      <th></th>\n",
       "      <th>Geography</th>\n",
       "      <th>Timeframe</th>\n",
       "      <th>Current Year Week Ending</th>\n",
       "      <th>Type</th>\n",
       "      <th>ASP Current Year</th>\n",
       "      <th>Total Bulk and Bags Units</th>\n",
       "      <th>4046 Units</th>\n",
       "      <th>4225 Units</th>\n",
       "      <th>4770 Units</th>\n",
       "      <th>TotalBagged Units</th>\n",
       "      <th>SmlBagged Units</th>\n",
       "      <th>LrgBagged Units</th>\n",
       "      <th>X-LrgBagged Units</th>\n",
       "      <th>Bulk GTIN</th>\n",
       "    </tr>\n",
       "  </thead>\n",
       "  <tbody>\n",
       "    <tr>\n",
       "      <th>0</th>\n",
       "      <td>Albany</td>\n",
       "      <td>Weekly</td>\n",
       "      <td>2019-01-07 00:00:00</td>\n",
       "      <td>Conventional</td>\n",
       "      <td>0.921802</td>\n",
       "      <td>111277.47</td>\n",
       "      <td>3541.90</td>\n",
       "      <td>95713.80</td>\n",
       "      <td>149.31</td>\n",
       "      <td>10904.73</td>\n",
       "      <td>0.0</td>\n",
       "      <td>0.0</td>\n",
       "      <td>0.0</td>\n",
       "      <td>967.73</td>\n",
       "    </tr>\n",
       "    <tr>\n",
       "      <th>1</th>\n",
       "      <td>Albany</td>\n",
       "      <td>Weekly</td>\n",
       "      <td>2019-01-13 00:00:00</td>\n",
       "      <td>Conventional</td>\n",
       "      <td>0.906561</td>\n",
       "      <td>115663.46</td>\n",
       "      <td>2920.69</td>\n",
       "      <td>101796.05</td>\n",
       "      <td>181.26</td>\n",
       "      <td>10072.66</td>\n",
       "      <td>0.0</td>\n",
       "      <td>0.0</td>\n",
       "      <td>0.0</td>\n",
       "      <td>692.81</td>\n",
       "    </tr>\n",
       "    <tr>\n",
       "      <th>2</th>\n",
       "      <td>Albany</td>\n",
       "      <td>Weekly</td>\n",
       "      <td>2019-01-20 00:00:00</td>\n",
       "      <td>Conventional</td>\n",
       "      <td>0.998831</td>\n",
       "      <td>146107.67</td>\n",
       "      <td>4322.20</td>\n",
       "      <td>123402.11</td>\n",
       "      <td>179.63</td>\n",
       "      <td>17223.11</td>\n",
       "      <td>0.0</td>\n",
       "      <td>0.0</td>\n",
       "      <td>0.0</td>\n",
       "      <td>980.61</td>\n",
       "    </tr>\n",
       "    <tr>\n",
       "      <th>3</th>\n",
       "      <td>Albany</td>\n",
       "      <td>Weekly</td>\n",
       "      <td>2019-01-27 00:00:00</td>\n",
       "      <td>Conventional</td>\n",
       "      <td>1.052065</td>\n",
       "      <td>80297.47</td>\n",
       "      <td>3380.41</td>\n",
       "      <td>64018.59</td>\n",
       "      <td>210.82</td>\n",
       "      <td>11065.69</td>\n",
       "      <td>0.0</td>\n",
       "      <td>0.0</td>\n",
       "      <td>0.0</td>\n",
       "      <td>1621.96</td>\n",
       "    </tr>\n",
       "    <tr>\n",
       "      <th>4</th>\n",
       "      <td>Albany</td>\n",
       "      <td>Weekly</td>\n",
       "      <td>2019-02-03 00:00:00</td>\n",
       "      <td>Conventional</td>\n",
       "      <td>0.798758</td>\n",
       "      <td>186952.91</td>\n",
       "      <td>4371.56</td>\n",
       "      <td>169578.61</td>\n",
       "      <td>357.67</td>\n",
       "      <td>11217.30</td>\n",
       "      <td>0.0</td>\n",
       "      <td>0.0</td>\n",
       "      <td>0.0</td>\n",
       "      <td>1427.77</td>\n",
       "    </tr>\n",
       "    <tr>\n",
       "      <th>...</th>\n",
       "      <td>...</td>\n",
       "      <td>...</td>\n",
       "      <td>...</td>\n",
       "      <td>...</td>\n",
       "      <td>...</td>\n",
       "      <td>...</td>\n",
       "      <td>...</td>\n",
       "      <td>...</td>\n",
       "      <td>...</td>\n",
       "      <td>...</td>\n",
       "      <td>...</td>\n",
       "      <td>...</td>\n",
       "      <td>...</td>\n",
       "      <td>...</td>\n",
       "    </tr>\n",
       "    <tr>\n",
       "      <th>6132</th>\n",
       "      <td>Total U.S.</td>\n",
       "      <td>Weekly</td>\n",
       "      <td>2019-12-08 00:00:00</td>\n",
       "      <td>Organic</td>\n",
       "      <td>1.583437</td>\n",
       "      <td>1206173.19</td>\n",
       "      <td>81966.85</td>\n",
       "      <td>105558.48</td>\n",
       "      <td>2637.20</td>\n",
       "      <td>615775.90</td>\n",
       "      <td>0.0</td>\n",
       "      <td>0.0</td>\n",
       "      <td>0.0</td>\n",
       "      <td>400234.76</td>\n",
       "    </tr>\n",
       "    <tr>\n",
       "      <th>6133</th>\n",
       "      <td>Total U.S.</td>\n",
       "      <td>Weekly</td>\n",
       "      <td>2019-12-15 00:00:00</td>\n",
       "      <td>Organic</td>\n",
       "      <td>1.587130</td>\n",
       "      <td>1194675.71</td>\n",
       "      <td>75094.12</td>\n",
       "      <td>101804.89</td>\n",
       "      <td>1585.72</td>\n",
       "      <td>659339.34</td>\n",
       "      <td>0.0</td>\n",
       "      <td>0.0</td>\n",
       "      <td>0.0</td>\n",
       "      <td>356851.64</td>\n",
       "    </tr>\n",
       "    <tr>\n",
       "      <th>6134</th>\n",
       "      <td>Total U.S.</td>\n",
       "      <td>Weekly</td>\n",
       "      <td>2019-12-22 00:00:00</td>\n",
       "      <td>Organic</td>\n",
       "      <td>1.634366</td>\n",
       "      <td>1244018.95</td>\n",
       "      <td>124288.99</td>\n",
       "      <td>137682.25</td>\n",
       "      <td>2436.88</td>\n",
       "      <td>576748.74</td>\n",
       "      <td>0.0</td>\n",
       "      <td>0.0</td>\n",
       "      <td>0.0</td>\n",
       "      <td>402862.07</td>\n",
       "    </tr>\n",
       "    <tr>\n",
       "      <th>6135</th>\n",
       "      <td>Total U.S.</td>\n",
       "      <td>Weekly</td>\n",
       "      <td>2019-12-29 00:00:00</td>\n",
       "      <td>Organic</td>\n",
       "      <td>1.577548</td>\n",
       "      <td>1189311.69</td>\n",
       "      <td>91737.68</td>\n",
       "      <td>123829.81</td>\n",
       "      <td>1565.69</td>\n",
       "      <td>507016.04</td>\n",
       "      <td>0.0</td>\n",
       "      <td>0.0</td>\n",
       "      <td>0.0</td>\n",
       "      <td>465162.47</td>\n",
       "    </tr>\n",
       "    <tr>\n",
       "      <th>6136</th>\n",
       "      <td>Source: IRI confidential information. HAB's ca...</td>\n",
       "      <td>NaN</td>\n",
       "      <td>NaN</td>\n",
       "      <td>NaN</td>\n",
       "      <td>NaN</td>\n",
       "      <td>NaN</td>\n",
       "      <td>NaN</td>\n",
       "      <td>NaN</td>\n",
       "      <td>NaN</td>\n",
       "      <td>NaN</td>\n",
       "      <td>NaN</td>\n",
       "      <td>NaN</td>\n",
       "      <td>NaN</td>\n",
       "      <td>NaN</td>\n",
       "    </tr>\n",
       "  </tbody>\n",
       "</table>\n",
       "<p>6137 rows × 14 columns</p>\n",
       "</div>"
      ],
      "text/plain": [
       "                                              Geography Timeframe  \\\n",
       "0                                                Albany    Weekly   \n",
       "1                                                Albany    Weekly   \n",
       "2                                                Albany    Weekly   \n",
       "3                                                Albany    Weekly   \n",
       "4                                                Albany    Weekly   \n",
       "...                                                 ...       ...   \n",
       "6132                                         Total U.S.    Weekly   \n",
       "6133                                         Total U.S.    Weekly   \n",
       "6134                                         Total U.S.    Weekly   \n",
       "6135                                         Total U.S.    Weekly   \n",
       "6136  Source: IRI confidential information. HAB's ca...       NaN   \n",
       "\n",
       "     Current Year Week Ending          Type  ASP Current Year  \\\n",
       "0         2019-01-07 00:00:00  Conventional          0.921802   \n",
       "1         2019-01-13 00:00:00  Conventional          0.906561   \n",
       "2         2019-01-20 00:00:00  Conventional          0.998831   \n",
       "3         2019-01-27 00:00:00  Conventional          1.052065   \n",
       "4         2019-02-03 00:00:00  Conventional          0.798758   \n",
       "...                       ...           ...               ...   \n",
       "6132      2019-12-08 00:00:00       Organic          1.583437   \n",
       "6133      2019-12-15 00:00:00       Organic          1.587130   \n",
       "6134      2019-12-22 00:00:00       Organic          1.634366   \n",
       "6135      2019-12-29 00:00:00       Organic          1.577548   \n",
       "6136                      NaN           NaN               NaN   \n",
       "\n",
       "      Total Bulk and Bags Units  4046 Units  4225 Units  4770 Units  \\\n",
       "0                     111277.47     3541.90    95713.80      149.31   \n",
       "1                     115663.46     2920.69   101796.05      181.26   \n",
       "2                     146107.67     4322.20   123402.11      179.63   \n",
       "3                      80297.47     3380.41    64018.59      210.82   \n",
       "4                     186952.91     4371.56   169578.61      357.67   \n",
       "...                         ...         ...         ...         ...   \n",
       "6132                 1206173.19    81966.85   105558.48     2637.20   \n",
       "6133                 1194675.71    75094.12   101804.89     1585.72   \n",
       "6134                 1244018.95   124288.99   137682.25     2436.88   \n",
       "6135                 1189311.69    91737.68   123829.81     1565.69   \n",
       "6136                        NaN         NaN         NaN         NaN   \n",
       "\n",
       "      TotalBagged Units  SmlBagged Units  LrgBagged Units  X-LrgBagged Units  \\\n",
       "0              10904.73              0.0              0.0                0.0   \n",
       "1              10072.66              0.0              0.0                0.0   \n",
       "2              17223.11              0.0              0.0                0.0   \n",
       "3              11065.69              0.0              0.0                0.0   \n",
       "4              11217.30              0.0              0.0                0.0   \n",
       "...                 ...              ...              ...                ...   \n",
       "6132          615775.90              0.0              0.0                0.0   \n",
       "6133          659339.34              0.0              0.0                0.0   \n",
       "6134          576748.74              0.0              0.0                0.0   \n",
       "6135          507016.04              0.0              0.0                0.0   \n",
       "6136                NaN              NaN              NaN                NaN   \n",
       "\n",
       "      Bulk GTIN  \n",
       "0        967.73  \n",
       "1        692.81  \n",
       "2        980.61  \n",
       "3       1621.96  \n",
       "4       1427.77  \n",
       "...         ...  \n",
       "6132  400234.76  \n",
       "6133  356851.64  \n",
       "6134  402862.07  \n",
       "6135  465162.47  \n",
       "6136        NaN  \n",
       "\n",
       "[6137 rows x 14 columns]"
      ]
     },
     "execution_count": 23,
     "metadata": {},
     "output_type": "execute_result"
    }
   ],
   "source": [
    "haas_prices_2022 = pd.read_csv('2019-plu-total-hab.csv')\n",
    "haas_prices_2022"
   ]
  },
  {
   "cell_type": "markdown",
   "id": "f6652341",
   "metadata": {},
   "source": [
    "What are some observations (trend, mean/median, variability/range, outliers, significant data points, etc.) you have about the data in **2019**?"
   ]
  },
  {
   "cell_type": "markdown",
   "id": "b96a2ff3",
   "metadata": {},
   "source": [
    "<code><b>Double-click to replace this and type your answer here!</b></code>"
   ]
  },
  {
   "cell_type": "markdown",
   "id": "2562b99e",
   "metadata": {},
   "source": [
    "What are some observations (trend, mean/median, variability/range, outliers, significant data points, etc.) you have about the data in **2022**?"
   ]
  },
  {
   "cell_type": "markdown",
   "id": "e7710576",
   "metadata": {},
   "source": [
    "<code><b>Double-click to replace this and type your answer here!</b></code>"
   ]
  },
  {
   "cell_type": "markdown",
   "id": "1f5cca5a",
   "metadata": {},
   "source": [
    "What specific value(s) in each data set should we use to determine if there was a change overtime?"
   ]
  },
  {
   "cell_type": "markdown",
   "id": "29d8036b",
   "metadata": {},
   "source": [
    "<code><b>Double-click to replace this and type your answer here!</b></code>"
   ]
  },
  {
   "cell_type": "markdown",
   "id": "41ac8f2b",
   "metadata": {},
   "source": [
    "Looking at the dataset, what would you hypothesize? Do you think there is a change in price between the two years? In which direction? How confident are you and why?"
   ]
  },
  {
   "cell_type": "markdown",
   "id": "16b9761d",
   "metadata": {},
   "source": [
    "<code><b>Double-click to replace this and type your answer here!</b></code>"
   ]
  },
  {
   "cell_type": "markdown",
   "id": "b118d2f6",
   "metadata": {},
   "source": [
    "# 3. Background on t-tests <a id='2'></a>\n",
    "In most cases, when we look at two different data sets to compare, there may be some overlapping points. For example, even though the overall graph shows the price of avocados in 2022 being greater than the price of avocados in 2019, we still see some points in the 2022 graph that are less than points of the 2019 graph. If there is a lot of overlap, looking at a visual or single calculated value may not be enough!\n",
    "\n",
    "In this case, it may be best to use a **two sample t-test**. A two sample t-test is a statistical test that can help us compare the means, or average, of the two dataset. T-tests have a specific criteria that the data must abide by to work:\n",
    "\n",
    "The data has to be:\n",
    "- independent – the data do not affect each other\n",
    "- a randomly selected sample\n",
    "- large... (sample size recommended to be over 30, otherwise, it MUST be normally distributed)\n",
    "- ...but not too large (sample size is at MOST 10% of the total population)\n",
    "\n",
    "Keep in note, we are using samples of the entire population. That is why we can use a t-test! Otherwise we would use a different test. In most cases, you will not be able to collect data about an entire population, so _t-tests are incredibly useful here!_\n",
    "\n",
    "Remember, our question is: **Did the price of avocados increase from 2019 to 2022?**"
   ]
  },
  {
   "cell_type": "markdown",
   "id": "ec8dddfc",
   "metadata": {},
   "source": [
    "# 4. The first step of a t-test <a id='3'></a>\n",
    "\n",
    "The first t-test step is to create our null hypothesis ($H_0$) and alternative hypothesis ($H_a$).\n",
    "\n",
    "- A **null hypothesis** is our assumption that says there is no difference between the two means. Typically, the format would follow $\\mu_a = \\mu_b$, where a and b are your identifying titles to separate the two samples and $\\mu$ is the Greek letter Mu.\n",
    "- The **alternative hypothesis** is what we want to test. Typically, the format would follow $\\mu_a < \\mu_b$, $\\mu_a > \\mu_b$, or $\\mu_a \\neq \\mu_b$.\n",
    "\n",
    "Write down what you think the null hypothesis and alternative hypothesis would be using the variables $\\mu_{2019}$ and $\\mu_{2022}$:"
   ]
  },
  {
   "cell_type": "markdown",
   "id": "919852b2",
   "metadata": {},
   "source": [
    "$H_0$: <code><b>Double-click to replace this and type your answer here!</b></code>"
   ]
  },
  {
   "cell_type": "markdown",
   "id": "711449b4",
   "metadata": {},
   "source": [
    "$H_a$: <code><b>Double-click to replace this and type your answer here!</b></code>"
   ]
  },
  {
   "cell_type": "markdown",
   "id": "75728cb5",
   "metadata": {},
   "source": [
    "Let’s check if your hypotheses are correct! [@abby: try to incorporate hide code cell?]\n",
    "\n",
    "$H_0$: $\\mu_{2019} = \\mu_{2022}$\n",
    "\n",
    "$H_a$: $\\mu_{2019} < \\mu_{2022}$\n",
    "- _Note that ($\\mu_{2019} > \\mu_{2022}$ would also be correct! The process to solve this is the same, but let’s follow using the first inequality._"
   ]
  },
  {
   "cell_type": "markdown",
   "id": "759a698e",
   "metadata": {},
   "source": [
    "# 5. p-value <a id='4'></a>\n",
    "\n",
    "At the end, we will receive a **p-value**. That p-value is compared to the probability “limit,” helping us determine if we are able to reject our null hypothesis.\n",
    "\n",
    "The “limit” is called the significance level, denoted as α. Typically, α is set to 0.05, but it can vary depending on the field of study. Essentially, α = 0.05 just means **there is a 5% risk that we reject the null hypothesis (or conclude that there is a significant change) even though there is actually no difference between the means (null hypothesis is actually true!)**.\n",
    "\n",
    "So in the context of avocados, if we have a p-value that is lower than α = 0.05, we can assert with 95% confidence that _the prices of avocados from 2019 and 2022 are not the same_. That is, there is a 5% chance that the prices are the same, even though our calculations state otherwise.\n",
    "\n",
    "For this problem, let’s set our α = 0.05."
   ]
  },
  {
   "cell_type": "markdown",
   "id": "04c8d689",
   "metadata": {},
   "source": [
    "There are two ways to perform a t-test with this data: with a calculator function and without a calculator function. Let’s look at without first:"
   ]
  },
  {
   "cell_type": "markdown",
   "id": "7af244f9",
   "metadata": {},
   "source": [
    "# 6. Performing a t-test without a calculator <a id='5'></a>\n",
    "\n",
    "We start by finding the means, standard deviations, and the count of each data sample. \n",
    "\n",
    "We can find the **mean** by adding up each of the values and dividing the sum by the count:\n",
    "\n",
    "$$mean = \\frac{\\text{sum of the terms}}{\\text{number of terms}}$$\n",
    "\n",
    "**Standard deviation** for a sample is the square root of the sum of the square of each term subtracted by the mean divided by the number of terms minus one. That's a mouthful! Let’s look at the formula to understand this better:\n",
    "\n",
    "$$s=\\sqrt{\\frac{\\sigma(x-\\bar{x})^2}{n-1}}$$\n",
    "\n",
    "where $x$ is the value, $\\bar{x}$ is the mean of the value, and $n$ is the count (the number of data points you have in the sample).\n",
    "\n",
    "All of these values can be determined manually through a calculator, or you can use the _2-Var Stats_ function under `[STAT]` on a TI-84 as you'll see in the following section."
   ]
  },
  {
   "cell_type": "markdown",
   "id": "9e07e933",
   "metadata": {},
   "source": [
    "# 7. Performing a t-test with a calculator <a id='6'></a>\n",
    "\n",
    "To use a TI-84:\n",
    "1. Press `[STAT]`.\n",
    "2. Press `[ENTER]` or `[1]` to get into EDIT\n",
    "3. Input your data into the lists. Each list should correspond to a sample.\n",
    "4. Press `[STAT]` again.\n",
    "5. Use the arrows to scroll over to CALC and hit `[2]` or select \"2-Var Stats\".\n",
    "6. Set \"Xlist\" as one of your filled lists. Set \"Ylist\" as your other filled list. You can change the list by hitting `[2ND][LIST]` and scrolling down on NAMES to select your desired list.\n",
    "7. Leave FreqList empty. \n",
    "8. Scroll to the bottom and hit **Calculate**.\n",
    "\n",
    "You specifically want to record $\\bar{x}$, $S_x$, $\\bar{y}$, $S_y$, and $n$. Note that if the two samples are different sizes, then you can do two 1-Var Stats tests for each sample. Make sure to note $n_x$ and $n_y$."
   ]
  },
  {
   "cell_type": "markdown",
   "id": "81c117be",
   "metadata": {},
   "source": [
    "Let the x-variables represent the data sample from 2019. Let the y-variables represent the data sample from 2022.\n",
    "\n",
    "What did you get for each of the values?"
   ]
  },
  {
   "cell_type": "markdown",
   "id": "268de99c",
   "metadata": {},
   "source": [
    "$\\bar{x}_{2019}$: <code><b>Double-click to replace this and type your answer here!</b></code>\n",
    "\n",
    "$S_{2019}$: <code><b>Double-click to replace this and type your answer here!</b></code>\n",
    "\n",
    "$\\bar{x}_{2022}$: <code><b>Double-click to replace this and type your answer here!</b></code>\n",
    "\n",
    "$S_{2022}$: <code><b>Double-click to replace this and type your answer here!</b></code>\n",
    "\n",
    "$n$: <code><b>Double-click to replace this and type your answer here!</b></code>"
   ]
  },
  {
   "cell_type": "markdown",
   "id": "ce16fced",
   "metadata": {},
   "source": [
    "Let’s check your work! [FOR JONATHAN: Because the random sample is going to be determined later, I can fill in these samples, or we can maybe develop a formula that automatically fills these in?]"
   ]
  },
  {
   "cell_type": "markdown",
   "id": "a0fd9095",
   "metadata": {},
   "source": [
    "$\\bar{x}_{2019}$: [CALCULATED ANSWER]\n",
    "\n",
    "$S_{2019}$: [CALCULATED ANSWER]\n",
    "\n",
    "$\\bar{x}_{2022}$: [CALCULATED ANSWER]\n",
    "\n",
    "$S_{2022}$: [CALCULATED ANSWER]\n",
    "\n",
    "$n$: [CALCULATED ANSWER]"
   ]
  },
  {
   "cell_type": "markdown",
   "id": "4783208f",
   "metadata": {},
   "source": [
    "# 8. Finding $t$ <a id='7'></a>\n",
    "\n",
    "Great job finding the main data statistics! Let’s use this information to help us form a t-test now!\n",
    "The general formula to find the t-statistic is:\n",
    "\n",
    "$$t=\\frac{\\bar{x_a}-\\bar{x_b}}{\\sqrt{\\frac{s_a^2}{n_a}-\\frac{s_b^2}{n_b}}}$$\n",
    "\n",
    "In this case, we can rewrite the formula in terms of our own variables:\n",
    "\n",
    "$$t=\\frac{\\bar{x_{2019}}-\\bar{x_{2022}}}{\\sqrt{\\frac{s_{2019}^2-s_{2022}^2}{n}}}$$"
   ]
  },
  {
   "cell_type": "markdown",
   "id": "e30f7e93",
   "metadata": {},
   "source": [
    "Go ahead and plug in the values to see what you get:"
   ]
  },
  {
   "cell_type": "markdown",
   "id": "19f55a7b",
   "metadata": {},
   "source": [
    "$t$ = <code><b>Double-click to replace this and type your answer here!</b></code>"
   ]
  },
  {
   "cell_type": "markdown",
   "id": "e6bdd990",
   "metadata": {},
   "source": [
    "Let’s check our work again:"
   ]
  },
  {
   "cell_type": "markdown",
   "id": "e7f07ac4",
   "metadata": {},
   "source": [
    "$t$ = [CALCULATED ANSWER]"
   ]
  },
  {
   "cell_type": "markdown",
   "id": "5c20f6b2",
   "metadata": {},
   "source": [
    "# 9. Visualizing the results <a id='8'></a>\n",
    "We are almost there! Now we have to find the probability of the t-distribution of becoming more extreme than the t-statistic. Let’s visualize this!"
   ]
  },
  {
   "cell_type": "code",
   "execution_count": 24,
   "id": "6c854f72",
   "metadata": {
    "scrolled": false
   },
   "outputs": [
    {
     "data": {
      "image/png": "[encoded data removed]",
      "text/plain": [
       "<Figure size 640x480 with 1 Axes>"
      ]
     },
     "metadata": {},
     "output_type": "display_data"
    }
   ],
   "source": [
    "# Don't worry too much about this code, we're just trying to get a good visualization of a normal curve.\n",
    "fig, ax = plt.subplots()\n",
    "plt.style.use('fivethirtyeight')\n",
    "x = np.arange(-3.5, 3.5, 0.001)\n",
    "ax.plot(x, norm.pdf(x), linewidth=3)\n",
    "ax.set_ylim(0, 0.45)\n",
    "plt.axvline(x=0, linewidth=2, color=\"black\")\n",
    "plt.axhline(y=0, linewidth=7, color=\"black\")\n",
    "ax.set_title('Standard Normal Curve')\n",
    "ax.set_xlabel('x')\n",
    "ax.set_ylabel('f(x)')\n",
    "plt.show()"
   ]
  },
  {
   "cell_type": "markdown",
   "id": "0322c5f8",
   "metadata": {},
   "source": [
    "This is a standard normal curve. The mean is at the middle line where $x=0$.\n",
    "\n",
    "Let’s now try to graph where a generic t-statistic would land from both ends of the mean – let’s say t-statistic = 1. "
   ]
  },
  {
   "cell_type": "code",
   "execution_count": 25,
   "id": "ec9f31de",
   "metadata": {
    "scrolled": false
   },
   "outputs": [
    {
     "ename": "NameError",
     "evalue": "name 'y' is not defined",
     "output_type": "error",
     "traceback": [
      "\u001b[0;31m---------------------------------------------------------------------------\u001b[0m",
      "\u001b[0;31mNameError\u001b[0m                                 Traceback (most recent call last)",
      "Cell \u001b[0;32mIn [25], line 5\u001b[0m\n\u001b[1;32m      3\u001b[0m x \u001b[38;5;241m=\u001b[39m np\u001b[38;5;241m.\u001b[39marange(\u001b[38;5;241m-\u001b[39m\u001b[38;5;241m3.5\u001b[39m, \u001b[38;5;241m3.5\u001b[39m, \u001b[38;5;241m0.001\u001b[39m)\n\u001b[1;32m      4\u001b[0m ax\u001b[38;5;241m.\u001b[39mplot(x, norm\u001b[38;5;241m.\u001b[39mpdf(x), linewidth\u001b[38;5;241m=\u001b[39m\u001b[38;5;241m3\u001b[39m)\n\u001b[0;32m----> 5\u001b[0m ax\u001b[38;5;241m.\u001b[39mfill_between(x, \u001b[43my\u001b[49m, \u001b[38;5;241m0\u001b[39m, where \u001b[38;5;241m=\u001b[39m (x \u001b[38;5;241m>\u001b[39m\u001b[38;5;241m=\u001b[39m \u001b[38;5;241m-\u001b[39m\u001b[38;5;241m1\u001b[39m) \u001b[38;5;241m&\u001b[39m (x \u001b[38;5;241m<\u001b[39m\u001b[38;5;241m=\u001b[39m \u001b[38;5;241m1\u001b[39m), alpha\u001b[38;5;241m=\u001b[39m\u001b[38;5;241m0.3\u001b[39m, color\u001b[38;5;241m=\u001b[39m\u001b[38;5;124m'\u001b[39m\u001b[38;5;124mg\u001b[39m\u001b[38;5;124m'\u001b[39m)\n\u001b[1;32m      6\u001b[0m ax\u001b[38;5;241m.\u001b[39mfill_between(x, y, \u001b[38;5;241m0\u001b[39m, where \u001b[38;5;241m=\u001b[39m (x \u001b[38;5;241m<\u001b[39m\u001b[38;5;241m=\u001b[39m \u001b[38;5;241m-\u001b[39m\u001b[38;5;241m1\u001b[39m), alpha\u001b[38;5;241m=\u001b[39m\u001b[38;5;241m0.1\u001b[39m, color\u001b[38;5;241m=\u001b[39m\u001b[38;5;124m'\u001b[39m\u001b[38;5;124mr\u001b[39m\u001b[38;5;124m'\u001b[39m)\n\u001b[1;32m      7\u001b[0m ax\u001b[38;5;241m.\u001b[39mfill_between(x, y, \u001b[38;5;241m0\u001b[39m, where \u001b[38;5;241m=\u001b[39m (x \u001b[38;5;241m>\u001b[39m\u001b[38;5;241m=\u001b[39m \u001b[38;5;241m1\u001b[39m), alpha\u001b[38;5;241m=\u001b[39m\u001b[38;5;241m0.1\u001b[39m, color\u001b[38;5;241m=\u001b[39m\u001b[38;5;124m'\u001b[39m\u001b[38;5;124mr\u001b[39m\u001b[38;5;124m'\u001b[39m)\n",
      "\u001b[0;31mNameError\u001b[0m: name 'y' is not defined"
     ]
    },
    {
     "data": {
      "image/png": "[encoded data removed]",
      "text/plain": [
       "<Figure size 640x480 with 1 Axes>"
      ]
     },
     "metadata": {},
     "output_type": "display_data"
    }
   ],
   "source": [
    "fig, ax = plt.subplots()\n",
    "plt.style.use('fivethirtyeight')\n",
    "x = np.arange(-3.5, 3.5, 0.001)\n",
    "ax.plot(x, norm.pdf(x), linewidth=3)\n",
    "ax.fill_between(x, y, 0, where = (x >= -1) & (x <= 1), alpha=0.3, color='g')\n",
    "ax.fill_between(x, y, 0, where = (x <= -1), alpha=0.1, color='r')\n",
    "ax.fill_between(x, y, 0, where = (x >= 1), alpha=0.1, color='r')\n",
    "ax.set_ylim(0, 0.45)\n",
    "plt.axvline(x=0, linewidth=2, color=\"black\")\n",
    "plt.axhline(y=0, linewidth=7, color=\"black\")\n",
    "ax.set_xlabel('x')\n",
    "ax.set_ylabel('f(x)')\n",
    "plt.show()"
   ]
  },
  {
   "cell_type": "markdown",
   "id": "f7176c08",
   "metadata": {},
   "source": [
    "When we deal with finding the probability, we actually want to look at the tail(s) of the graph, so focus on the red areas instead of the green!"
   ]
  },
  {
   "cell_type": "markdown",
   "id": "acb97108",
   "metadata": {},
   "source": [
    "If we want to find the probability that:\n",
    "- $\\mu_a < \\mu_b$: Find the probability of the left tail end.\n",
    "- $\\mu_a > \\mu_b$: Find the probability of the right tail end.\n",
    "- $\\mu_a \\neq \\mu_b$: Find the probability of the left tail end and the right tail end (double the value)."
   ]
  },
  {
   "cell_type": "markdown",
   "id": "b961a027",
   "metadata": {},
   "source": [
    "Describe what portion of the normal curve you are wanting to find the probability of for our avocado problem! Make sure to include the t-statistic by drawing a rough sketch."
   ]
  },
  {
   "cell_type": "markdown",
   "id": "6417a908",
   "metadata": {},
   "source": [
    "<code><b>Double-click to replace this and type your answer here!</b></code>"
   ]
  },
  {
   "cell_type": "markdown",
   "id": "b618669e",
   "metadata": {},
   "source": [
    "The normal graph should look something like:"
   ]
  },
  {
   "cell_type": "code",
   "execution_count": null,
   "id": "5081f1bb",
   "metadata": {
    "scrolled": false
   },
   "outputs": [],
   "source": [
    "fig, ax = plt.subplots()\n",
    "plt.style.use('fivethirtyeight')\n",
    "x = np.arange(-3.5, 3.5, 0.001)\n",
    "ax.plot(x, norm.pdf(x), linewidth=3)\n",
    "ax.fill_between(x, y, 0, where = (x <= 1.38), alpha=0.3, color='g')\n",
    "ax.fill_between(x, y, 0, where = (x >= 1.38), alpha=0.1, color='r')\n",
    "ax.set_ylim(0, 0.45)\n",
    "plt.axvline(x=0, linewidth=2, color=\"black\")\n",
    "plt.axhline(y=0, linewidth=7, color=\"black\")\n",
    "ax.set_xlabel('x')\n",
    "ax.set_ylabel('f(x)')\n",
    "plt.show()"
   ]
  },
  {
   "cell_type": "markdown",
   "id": "81a8adc5",
   "metadata": {},
   "source": [
    "And you want to find the probability of the white portion! [NEED TO ADJUST TO MATCH THE CALCULATED T-STATISTIC]\n",
    "\n",
    "So how do we find the probability? We can use a test in our calculators called tcdf!"
   ]
  },
  {
   "cell_type": "markdown",
   "id": "9c157ca9",
   "metadata": {},
   "source": [
    "To find the probability:\n",
    "1. Press `[2ND][DISTR]`\n",
    "2. Press `[6]` or scroll to \"tdcf(\"\n",
    "3. Enter your lower bound. If your lower bound is the end of the curve, put -1E99; to enter E, press `[2ND][EE]`).\n",
    "4. Enter your upper bound. If your upper bound is the end of the curve, put 1E99; to enter E, press `[2ND][EE]`).\n",
    "5. Enter the smallest sample size minus 1 as the df.\n",
    "6. Hit `Paste`."
   ]
  },
  {
   "cell_type": "markdown",
   "id": "a3ce4ff1",
   "metadata": {},
   "source": [
    "Determine the probability for our avocado data:"
   ]
  },
  {
   "cell_type": "markdown",
   "id": "aaa5f2b0",
   "metadata": {},
   "source": [
    "tcdf(`____`, `_____`, `_____`) = `______`"
   ]
  },
  {
   "cell_type": "markdown",
   "id": "1384674e",
   "metadata": {},
   "source": [
    "Check your work!"
   ]
  },
  {
   "cell_type": "markdown",
   "id": "652b6fc1",
   "metadata": {},
   "source": [
    "tcdf(-1E99, `[T-STAT]`, 49) = [ANS]"
   ]
  },
  {
   "cell_type": "markdown",
   "id": "e33ac98b",
   "metadata": {},
   "source": [
    "# 10. Analyze the p-value <a id='9'></a>\n",
    "Great! We got our numbers and now it is time to interpret the data! Remember that significance level we talked about before? We are going to compare our probability, commonly known as **p-value**, to $\\alpha$. There are two outcomes:\n",
    "\n",
    "- p-value < $\\alpha$\n",
    "    - This is great! We can reject the null hypothesis and suggest the alternative hypothesis. \n",
    "    - \"Since the p-value of [p-value] is less than 0.05, we can reject the null hypothesis of no difference in favor of the alternative and conclude that, on average, [describe Ha in words].”\n",
    "- p-value > $\\alpha$\n",
    "    - Here, we cannot reject the null hypothesis! Note that we DO NOT accept the null hypothesis, it just means we cannot make a firm conclusion.\n",
    "    - “Because the p-value of [p-value] is larger than 0.05, we fail to reject the null hypothesis. There is not convincing evidence that [describe Ha in words].”"
   ]
  },
  {
   "cell_type": "markdown",
   "id": "9eb387d7",
   "metadata": {},
   "source": [
    "With our p-value, analyze your results by comparing it to $\\alpha$ = 0.05."
   ]
  },
  {
   "cell_type": "markdown",
   "id": "9a543d92",
   "metadata": {},
   "source": [
    "<code><b>Double-click to replace this and type your answer here!</b></code>"
   ]
  },
  {
   "cell_type": "markdown",
   "id": "fe3d72d4",
   "metadata": {},
   "source": [
    "Check your work!"
   ]
  },
  {
   "cell_type": "markdown",
   "id": "77afd676",
   "metadata": {},
   "source": [
    "- p-value < $\\alpha$\n",
    "    - “Since the p-value of [p-value] is less than 0.05, we can reject the null hypothesis of no difference in favor of the alternative and conclude that, on average, the price of avocados in 2019 is less than the price of avocados in 2022. ”\n",
    "- p-value > $\\alpha$\n",
    "    - Here, we cannot reject the null hypothesis! Note that we DO NOT accept the null hypothesis, it just means we cannot make a firm conclusion.\n",
    "    - “Because the p-value of [p-value] is larger than 0.05, we fail to reject the null hypothesis. There is not convincing evidence that the price of avocados in 2019 is less than the price of avocados in 2022.”\n"
   ]
  },
  {
   "cell_type": "markdown",
   "id": "cf2cee58",
   "metadata": {},
   "source": [
    "And that's how you perform a t-test!"
   ]
  },
  {
   "cell_type": "markdown",
   "id": "bfb3b28c",
   "metadata": {},
   "source": [
    "# Conclusion <a id='10'></a>\n",
    "\n",
    "**Congratulations on finishing the notebook!** There was a lot of content but here's what you learned throughout this notebook:\n",
    "- [ADD LEARNING GOALS HERE]"
   ]
  },
  {
   "cell_type": "markdown",
   "id": "6aa574cf",
   "metadata": {},
   "source": [
    "# Survey <a id='11'></a>\n",
    "\n",
    "This survey is all anonymous. You are not required to answer any questions, but responses are highly encouraged! These answers will be used to study curriculum and how to improve (online) lessons.\n",
    "\n",
    "- Grade:\n",
    "- Have you taken or are you currently taking a statistics course: <code><b>YES or NO</b></code>\n",
    "- What did you like about this lesson:\n",
    "- What did you not like about this lesson (What would you like changed?):\n",
    "- On a scale of 1-10, how effective was the lesson (How much information did you retain):\n",
    "- On a scale of 1-10, how likely are you to recommend this lesson to others:"
   ]
  },
  {
   "cell_type": "markdown",
   "id": "44defbdf",
   "metadata": {},
   "source": [
    "# Feedback Form <a id='13'></a>\n",
    "\n",
    "<div class=\"alert alert-info\">\n",
    "<b> We encourage student to fill out the following feedback form to share your experience with this Module notebook. This feedback form will take no longer than 5 minutes. At UC Berkeley Data Science Undergraduate Studies Modules, we appreciate all feedback to improve the learning of students and experience utilizing Jupyter Notebooks for Data Science Education: </b> \n",
    "</div>\n",
    "\n",
    "# [UC Berkeley Data Science Feedback Form](https://forms.gle/hipxf2uFw5Ud4Hyn8)"
   ]
  },
  {
   "cell_type": "code",
   "execution_count": null,
   "id": "e66afeb6",
   "metadata": {},
   "outputs": [],
   "source": []
  }
 ],
 "metadata": {
  "kernelspec": {
   "display_name": "Python 3 (ipykernel)",
   "language": "python",
   "name": "python3"
  },
  "language_info": {
   "codemirror_mode": {
    "name": "ipython",
    "version": 3
   },
   "file_extension": ".py",
   "mimetype": "text/x-python",
   "name": "python",
   "nbconvert_exporter": "python",
   "pygments_lexer": "ipython3",
   "version": "3.9.13"
  }
 },
 "nbformat": 4,
 "nbformat_minor": 5
}
