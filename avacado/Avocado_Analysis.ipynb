{
 "cells": [
  {
   "cell_type": "markdown",
   "id": "a9daf04a",
   "metadata": {},
   "source": [
    "# [CalTeach Fall 2022] Avocado Analysis\n",
    "\n",
    "**Notebook Developed By:** Abigail Yu, Jonathan Ferrari\n",
    "\n",
    "## Inspiration [@abby: delete later?]\n",
    "\n",
    "- [Curriculum Idea](https://www.jmp.com/en_us/statistics-knowledge-portal/t-test/two-sample-t-test.html)\n",
    "\n",
    "- Objective: Students will be able to understand, perform, and analyze results of a t-test using data that they have collected.\n",
    "\n",
    "- Idea should be similar to the [Gecko Physics Example](https://datahub.berkeley.edu/user/ailynnguyen/notebooks/IB-C32/Final/Gecko_Inspired_Adhesive_Analysis.ipynb)\n",
    "\n",
    "- Target Audience: High school (AP) statistic students (need to try to make language engaging, maybe add visual elements?)\n",
    "\n",
    "### Learning Outcomes\n",
    "\n",
    "In this notebook, you will learn:\n",
    "- how to understand, perform, and analyze results of a _t-test_ using data that you have collected.\n",
    "- more?\n",
    "\n",
    "### Table of Contents\n",
    "1. [Introduction](#0) <br>\n",
    "1. [t-Test](#1) <br>\n",
    "1. [Wastewater Research by Dr. Kantor](#2) <br>\n",
    "1. [COVID-19 Data in Wastewater](#3) <br>\n",
    "1. [Pollution Burden Maps](#4) <br>\n",
    "1. [Conclusion](#5) <br>\n",
    "1. [Submission](#6)<br>\n",
    "1. [Explore Data Science Opportunities](#7)<br>\n",
    "1. [Feedback Form](#8)<br>\n",
    "\n",
    "-------------------------------------------------------------------"
   ]
  },
  {
   "cell_type": "markdown",
   "id": "ec9e82e5",
   "metadata": {},
   "source": [
    "# 1. Introduction <a id='0'></a>\n",
    "\n",
    "Avocados. From guacamole to morning toast, avocados have risen in popularity immensely. They are used in salads and salsas, spring rolls and sandwiches – they are even snuck into chocolatey brownies! But of course, if more and more people want a product, what do you think will happen to the price?\n",
    "\n",
    "Let’s make a hypothesis of what we expect the price of avocados to look like over time if more and more people continue to want them. In your hypothesis, include your:\n",
    "\n",
    "**Claim:** “Avocado prices will rise/drop/stay the same/etc.”\n",
    "\n",
    "**Explanation:** “because….”\n",
    "\n",
    "Type below:"
   ]
  },
  {
   "cell_type": "markdown",
   "id": "83640b74",
   "metadata": {},
   "source": [
    "<code><b>Double-click to type your answer here!</b></code>"
   ]
  },
  {
   "cell_type": "markdown",
   "id": "66b05694",
   "metadata": {},
   "source": [
    "# 2. t-Test <a id='1'></a>\n",
    "\n",
    "How can we look at changes overtime? Well, luckily the Hass Avocado Board has an extensive national dataset of avocado prices (and more!) from 2015 and onwards.\n",
    "\n",
    "Let’s take a look at a random sample of the avocado prices in 2019 and 2022 from California:\n",
    "> [FOR JONATHAN: here is a link for the dataset from 2019 and here is the link for the dataset from 2022 you may need to scroll down until you find the “Totals by PLU” box and download the csv that says “Download 2019/22 Weekly Retail Volume and Price Report”; I had to make an account to access this, but it is free and takes a couple of seconds! I’m not sure how to access this data and get a random sample of about 50 prices from each data set, so let’s talk further about that! Ideally, the random sample should be formatted in a graph that shows some sort of distribution (like scatter plot or bar graph!) I’m not sure of the extent for Jupyter graphs/visuals, but if it could have the option to display the 2019 graph only, 2022 graph only, and both at the same time, that would be awesome here!]\n",
    "\n",
    "What are some observations (trend, mean/median, variability/range, outliers, significant data points, etc.) you have about the data in 2019? "
   ]
  },
  {
   "cell_type": "markdown",
   "id": "13de3a49",
   "metadata": {},
   "source": [
    "<code><b>Double-click to type your answer here!</b></code>"
   ]
  },
  {
   "cell_type": "markdown",
   "id": "a919aaa6",
   "metadata": {},
   "source": [
    "What are some observations (trend, mean/median, variability/range, outliers, significant data points, etc.) you have about the data in 2022? "
   ]
  },
  {
   "cell_type": "markdown",
   "id": "5a11d12e",
   "metadata": {},
   "source": [
    "<code><b>Double-click to type your answer here!</b></code>"
   ]
  },
  {
   "cell_type": "markdown",
   "id": "7420b63a",
   "metadata": {},
   "source": [
    "What specific value(s) in each data set should we use to determine if there was a change overtime?"
   ]
  },
  {
   "cell_type": "markdown",
   "id": "60c00e82",
   "metadata": {},
   "source": [
    "<code><b>Double-click to type your answer here!</b></code>"
   ]
  },
  {
   "cell_type": "markdown",
   "id": "96563a8e",
   "metadata": {},
   "source": [
    "Looking at the dataset, what would you hypothesize? Do you think there is a change in price between the two years? In which direction? How confident are you and why? "
   ]
  },
  {
   "cell_type": "markdown",
   "id": "9bacac2d",
   "metadata": {},
   "source": [
    "<code><b>Double-click to type your answer here!</b></code>"
   ]
  },
  {
   "cell_type": "markdown",
   "id": "9cdfa92a",
   "metadata": {},
   "source": [
    "# 3. Background on t-test?\n",
    "\n",
    "In most cases, when we look at two different data sets to compare, there may be some overlapping points. For example, even though the overall graph shows the price of avocados in 2022 being greater than the price of avocados in 2019, we still see some points in the 2022 graph that are less than points of the 2019 graph. If there is a lot of overlap, looking at a visual or single calculated value may not be enough!\n",
    "\n",
    "In this case, it may be best to use a two sample t-test. A two sample t-test is a statistical test that can help us compare the means, or average, of the two dataset. T-tests have a specific criteria that the data must abide by to work:\n",
    "\n",
    "The data has to be:\n",
    "independent (the data do not affect each other)\n",
    "randomly selected sample\n",
    "large (sample size recommended to be over 30, otherwise, it MUST be normally distributed)\n",
    "but not too large (sample size is at MOST 10% of the total population)\n",
    "\n",
    "Keep in note, we are using samples of the entire population. That is why we can use a t-test! Otherwise we would use a different test. In most cases, you will not be able to collect data about an entire population, so t-tests are incredibly useful here!\n",
    "\n",
    "Remember our question is: Did the price of avocados increase from 2019 to 2022?"
   ]
  },
  {
   "cell_type": "markdown",
   "id": "1d17bbd8",
   "metadata": {},
   "source": [
    "# 4. t-Test first step?\n",
    "\n",
    "The first t-test step is to create our null hypothesis (H0) and alternative hypothesis (Ha). A null hypothesis is our assumption that says there is no difference between the two means. Typically, the format would follow μa = μb, where a and b are your identifying titles to separate the two samples. The alternative hypothesis is what we want to test. Typically, the format would follow μa < μb, μa > μb, or μa ≠ μb.\n",
    "\n",
    "Write down what you think the null hypothesis and alternative hypothesis would be using the variables μ2019 and μ2022: \n",
    "H0: \n",
    "Ha:\n",
    "\n",
    "Let’s check if your hypotheses are correct! \n",
    "H0: μ2019 = μ2022\n",
    "Ha: μ2019 < μ2022  (note: μ2022 > μ2019 would also be correct! The process to solve this is the same, but let’s follow using the first inequality.)"
   ]
  },
  {
   "cell_type": "markdown",
   "id": "69abaf28",
   "metadata": {},
   "source": [
    "# 5. p-value?\n",
    "\n",
    "At the end, we will receive a p-value. That p-value is compared to the probability “limit,” helping us determine if we are able to reject our null hypothesis. The “limit” is called the significance level, denoted as α. Typically, α is set to 0.05, but it can vary depending on the field of study. Essentially, α = 0.05 just means there is a 5% risk that we reject the null hypothesis (or conclude that there is a significant change) even though there is actually no difference between the means (null is actually true!). So in the context of avocados, if we have a p-value that is lower than α = 0.05, we can assert with 95% confidence that the prices of avocados from 2019 and 2022 are not the same. That is, there is a 5% chance that the prices are the same, even though our calculations state otherwise. For this problem, let’s set our α = 0.05. "
   ]
  },
  {
   "cell_type": "markdown",
   "id": "a3c3c22d",
   "metadata": {},
   "source": [
    "# 6. Performing a t-test without a calculator\n",
    "\n",
    "There are two ways to perform a t-test with this data: with a calculator function and without a calculator function. Let’s look at without first:\n",
    " \n",
    "t-Test without using direct calculator function\n",
    "\n",
    "We start by finding the means, standard deviations, and the count of each data sample. \n",
    "\n",
    "We can find the mean by adding up each of the values and dividing the sum by the count. \n",
    "mean = sum of the termsnumber of terms\n",
    "\n",
    "Standard deviation for a sample is the square root of the sum of the square of each term subtracted by the mean divided by the number of terms minus one. A mouthful! Let’s look at the formula to understand this better:\n",
    "s = (x - x)2n-1, where x is the value, x is the mean, and n is the count\n",
    "\n",
    "The count is simply the number of data points you have in the sample."
   ]
  },
  {
   "cell_type": "markdown",
   "id": "6a4dc690",
   "metadata": {},
   "source": [
    "# 7. Performing a t-test with a calculator\n",
    "\n",
    "All of these values can be determined manually through a calculator, or you can use the 2-Var Stats function under [STAT] on a TI-84.\n",
    "\n",
    "To use a TI-84:\n",
    "Press [STAT].\n",
    "Press [ENTER] or [1] to get into Edit…\n",
    "Input your data into the lists. Each list should correspond to a sample.\n",
    "Press [STAT] again.\n",
    "Scroll over to CALC and hit [2] or select 2-Var Stats.\n",
    "Set Xlist as one of your filled lists. Set Ylist as your other filled list. You can change the list by hitting [2ND][LIST] and scrolling down on NAMES to select your desired list.\n",
    "Leave FreqList empty. \n",
    "Hit Calculate\n",
    "You specifically want to record x, Sx, y, Sy, and n. Note that if the two samples are different sizes, then you can do two 1-Var Stats tests for each sample. Make sure to note nx and ny.\n",
    "\n",
    "Let the x-variables represent the data sample from 2019 (. Let the y-variables represent the data sample from 2022. \n",
    "\n",
    "What did you get for each of the values?\n",
    "x2019: \\\n",
    "S2019: \\\n",
    "x2022: \\\n",
    "S2022: \\\n",
    "n:\n",
    "\n",
    "Let’s check your work! [FOR JONATHAN: Because the random sample is going to be determined later, I can fill in these samples, or we can maybe develop a formula that automatically fills these in?]\n",
    "x2019: \\\n",
    "s2019: \\\n",
    "x2022: \\\n",
    "s2022: \\\n",
    "n:"
   ]
  },
  {
   "cell_type": "markdown",
   "id": "8479fb75",
   "metadata": {},
   "source": [
    "# 8. break this up later @abby\n",
    "\n",
    "Great job finding the main data statistics! Let’s use this information to help us form a t-test now!\n",
    "The general formula to find the t-statistic is:\n",
    "t=xa -  xbsa2na - sb2nb\n",
    "\n",
    "In this case, we can rewrite the formula in terms of our own variables:\n",
    "t=x2019 -  x2022s20192- s20222n\n",
    "\n",
    "Go ahead and plug in the values to see what you get:\n",
    "t =\n",
    "\n",
    "Let’s check our work again. \n",
    "t = [CALCULATED ANSWER]\n",
    "\n",
    "We are almost there! Now we have to find the probability of the t-distribution of becoming more extreme than the t-statistic. Let’s visualize this! [IS IT POSSIBLE TO DRAW NORMAL CURVES ON JUPYTER NOTEBOOK? THESE VISUALS ARE NOT THE BEST!]\n",
    "\n",
    "This is a standard normal curve. The mean is at the middle line where x=0. Let’s now try to graph where a generic t-statistic would land from both ends of the mean–let’s say t-statistic = 1. \n",
    "\n",
    "When we deal with finding the probability, we actually want to look at the tail(s) of the graph, so focus on the white areas instead of the green!\n",
    "\n",
    "\n",
    "If we want to find the probability that: \n",
    "μa < μb: Find the probability of the left tail end.\n",
    "μa > μb: Find the probability of the right tail end.\n",
    "μa ≠ μb: Find the probability of the left tail end and the right tail end (double the value).\n",
    "\n",
    "Describe what portion of the normal curve you are wanting to find the probability of for our avocado problem! Make sure to include the t-statistic by drawing a rough sketch.\n",
    "\n",
    "\n",
    "\n",
    "\n",
    "The normal graph should look something like:\n",
    "\n",
    "And you want to find the probability of the white portion! [NEED TO ADJUST TO MATCH THE CALCULATED T-STATISTIC]\n",
    "\n",
    "So how do we find the probability? We can use a test in our calculators called tcdf!\n",
    "\n",
    "To find the probability:\n",
    "Press [2ND][DISTR]\n",
    "Press [6] or scroll to tdcf(\n",
    "Enter your lower bound (if your lower bound is the end of the curve, put -1E99; to enter E, press [2ND][EE])\n",
    "Enter your upper bound (if your upper bound is the end of the curve, put 1E99; to enter E, press [2ND][EE])\n",
    "Enter the smallest sample size minus 1 as the df. \n",
    "Hit Paste\n",
    "\n",
    "Determine the probability for our avocado data:\n",
    "tcdf( ____, _____, _____) = ______\n",
    "\n",
    "Check your work!\n",
    "tcdf(-1E99, [T-STAT], 49) = [ANS]\n",
    "\n",
    "Great! We got our numbers and now it is time to interpret the data! Remember that significance level we talked about before? We are going to compare our probability, commonly known as p-value, to α. There are two outcomes:\n",
    "p-value < α\n",
    "This is great! We can reject the null hypothesis and suggest the alternative hypothesis. \n",
    "“Since the p-value of [p-value] is less than 0.05, we can reject the null hypothesis of no difference in favor of the alternative and conclude that, on average, [describe Ha in words]. ”\n",
    "p-value > α\n",
    "Here, we cannot reject the null hypothesis! Note that we DO NOT accept the null hypothesis, it just means we cannot make a firm conclusion.\n",
    "“Because the p-value of [p-value] is larger than 0.05, we fail to reject the null hypothesis. There is not convincing evidence that [describe Ha in words].”\n",
    "\n",
    "With our p-value, analyze your results by comparing it to α = 0.05. \n",
    "\n",
    "\n",
    "\n",
    "\n",
    "Check your work!\n",
    "[TWO ANSWERS:\n",
    "p-value < α\n",
    "“Since the p-value of [p-value] is less than 0.05, we can reject the null hypothesis of no difference in favor of the alternative and conclude that, on average, the price of avocados in 2019 is less than the price of avocados in 2022. ”\n",
    "p-value > α\n",
    "Here, we cannot reject the null hypothesis! Note that we DO NOT accept the null hypothesis, it just means we cannot make a firm conclusion.\n",
    "“Because the p-value of [p-value] is larger than 0.05, we fail to reject the null hypothesis. There is not convincing evidence that the price of avocados in 2019 is less than the price of avocados in 2022.”\n",
    "]\n",
    "\n",
    "And that’s how you perform a t-test!  "
   ]
  },
  {
   "cell_type": "markdown",
   "id": "55077646",
   "metadata": {},
   "source": [
    "# Conclusion\n",
    "\n",
    "**Congratulations on finishing the notebook!** There was a lot of content but here's what you learned throughout this notebook:\n",
    "- ?"
   ]
  },
  {
   "cell_type": "markdown",
   "id": "abb88dde",
   "metadata": {},
   "source": [
    "# Survey\n",
    "\n",
    "This survey is all anonymous. You are not required to answer any questions, but responses are highly encouraged! These answers will be used to study curriculum and how to improve (online) lessons.\n",
    "\n",
    "- Grade:\n",
    "- Have you taken or are you currently taking a statistics course: Yes No\n",
    "- What did you like about this lesson:\n",
    "- What did you not like about this lesson (What would you like changed?):\n",
    "- On a scale of 1-10, how effective was the lesson (How much information did you retain):\n",
    "- On a scale of 1-10, how likely are you to recommend this lesson to others:"
   ]
  },
  {
   "cell_type": "markdown",
   "id": "c229e568",
   "metadata": {},
   "source": [
    "# Explore Data Science Opportunities\n",
    "\n",
    "Interested in learning more about how to get involved in data science or learn about data science applications? The following resources might help support your learning:\n",
    "\n",
    "---\n",
    "\n",
    "- Data Science Modules: http://data.berkeley.edu/education/modules\n",
    "\n",
    "- Data Science Offerings at Berkeley: https://data.berkeley.edu/academics/undergraduate-programs/data-science-offerings\n",
    "\n",
    "- Data 8 Course Information: http://data8.org/\n",
    "\n",
    "- Data 100 Course Information: https://ds100.org/\n"
   ]
  },
  {
   "cell_type": "markdown",
   "id": "6057d6a3",
   "metadata": {},
   "source": [
    "# Feedback Form <a id='8'></a>\n",
    "\n",
    "<div class=\"alert alert-info\">\n",
    "<b> We encourage student to fill out the following feedback form to share your experience with this Module notebook. This feedback form will take no longer than 5 minutes. At UC Berkeley Data Science Undergraduate Studies Modules, we appreciate all feedback to improve the learning of students and experience utilizing Jupyter Notebooks for Data Science Education: </b> \n",
    "</div>\n",
    "\n",
    "# [UC Berkeley Data Science Feedback Form](https://forms.gle/hipxf2uFw5Ud4Hyn8)"
   ]
  },
  {
   "cell_type": "code",
   "execution_count": null,
   "id": "aead7b53",
   "metadata": {},
   "outputs": [],
   "source": []
  }
 ],
 "metadata": {
  "kernelspec": {
   "display_name": "Python 3 (ipykernel)",
   "language": "python",
   "name": "python3"
  },
  "language_info": {
   "codemirror_mode": {
    "name": "ipython",
    "version": 3
   },
   "file_extension": ".py",
   "mimetype": "text/x-python",
   "name": "python",
   "nbconvert_exporter": "python",
   "pygments_lexer": "ipython3",
   "version": "3.9.13"
  }
 },
 "nbformat": 4,
 "nbformat_minor": 5
}
