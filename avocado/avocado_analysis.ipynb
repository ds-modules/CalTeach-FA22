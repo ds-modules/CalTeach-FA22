{
 "cells": [
  {
   "cell_type": "markdown",
   "id": "365946e2",
   "metadata": {},
   "source": [
    "# [CalTeach Fall 2022] Avocado Analysis\n",
    "\n",
    "**Curriculum designed by**: Lynn Nguyen\n",
    "\n",
    "**Notebook Developed By:** Abigail Yu, Jonathan Ferrari\n",
    "\n",
    "### Learning Outcomes\n",
    "\n",
    "In this notebook, you will learn:\n",
    "- how to create a null & alternative hypothesis.\n",
    "- how to understand, perform, and analyze results of a _t-test_ using data, with and without a calculator.\n",
    "- how to analyze a p-value.\n",
    "\n",
    "### Table of Contents\n",
    "1. [Jupyter Notebook Structure](#-1) <br>\n",
    "1. [Introduction](#0) <br>\n",
    "1. [What is a t-test?](#1) <br>\n",
    "1. [Background on t-tests](#2) <br>\n",
    "1. [The first step of a t-test](#3) <br>\n",
    "1. [p-value](#4) <br>\n",
    "1. [Performing a t-test without a calculator](#5) <br>\n",
    "1. [Performing a t-test with a calculator](#6) <br>\n",
    "1. [Finding $t$](#7) <br>\n",
    "1. [Visualizing the results](#8) <br>\n",
    "1. [Analyze the p-value](#9) <br>\n",
    "1. [Conclusion](#10) <br>\n",
    "1. [Feedback Form](#11)<br>\n",
    "\n",
    "-------------------------------------------------------------------"
   ]
  },
  {
   "cell_type": "markdown",
   "id": "026086e1",
   "metadata": {},
   "source": [
    "# 0. Jupyter Notebook Structure <a id='-1'></a>\n",
    "\n",
    "### Cell Types\n",
    "A notebook is composed of rectangular sections called **cells**. There are 2 kinds of cells: markdown and code. \n",
    "- A **markdown cell**, such as this one, contains text. \n",
    "- A **code cell** contains code in Python, a programming language that we will be using with all of our data science modules in this class. You can select any cell by clicking it once.\n",
    "    - Code cells can also contain code in other languages like Julia, or R: both of which can also be used in data analysis\n",
    "\n",
    "### Running Cells\n",
    "To \"run\" a code cell (i.e. tell the computer to perform the programmed instructions in the cell), select it and then,\n",
    "- Press `Shift` + `Enter` to run the cell and move to the following cell\n",
    "- Press `Command/Control` + `Enter` to run the cell but stay on the same cell\n",
    "    - This can be used repeatedley to re-run the same process\n",
    "- Click the Run button in the toolbar at the top of the screen. \n",
    "\n",
    "### Results and Outputs of a Cell\n",
    "When you run a code cell, a number of things can happen, depending on the type and contents of the cell:\n",
    "1. If the cell is a markdown cell, the text will be rendered according to the structure (_Markdown_, _HTML_, etc.)\n",
    "2. If the cell is a code cell, the result of the last line in the cell will be shown\n",
    "    - This output may be text, a number, a picture, or a visualization\n",
    "\n",
    "If a code cell is running, you will see an asterisk (\\*) appear in the square brackets to the left of the cell. Once the cell has finished running, a number will replace the asterisk and any output from the code will appear under the cell.\n",
    "\n",
    "Let's try it! **Run the cell below to see the output.** Feel free to play around with the code -- try changing 'World' to your name."
   ]
  },
  {
   "cell_type": "code",
   "execution_count": 4,
   "id": "ef7c27ab",
   "metadata": {},
   "outputs": [
    {
     "name": "stdout",
     "output_type": "stream",
     "text": [
      "Hello World!\n"
     ]
    }
   ],
   "source": [
    "print(\"Hello World!\") # Run the cell by using one of the methods we mentioned above!"
   ]
  },
  {
   "cell_type": "markdown",
   "id": "54d57e27",
   "metadata": {},
   "source": [
    "### Comments\n",
    "You'll notice that many code cells contain lines of blue text that start with a `#`. These are ***comments***. Comments often contain helpful information about what the code does or what you are supposed to do in the cell. The leading `#` tells the computer to ignore whatever text follows it."
   ]
  },
  {
   "cell_type": "markdown",
   "id": "a5b99362",
   "metadata": {},
   "source": [
    "### Editing the Notebook\n",
    "\n",
    "You can change the text in a markdown cell by clicking it twice. Text in markdown cells is written in [**Markdown**](https://daringfireball.net/projects/markdown/), a formatting language for plain text, so you may see some funky symbols should you try and edit a markdown cell we've already written. Once you've made changes to a markdown cell, you can exit editing mode by running the cell the same way you'd run a code cell.\n",
    "\n",
    "<blockquote>\n",
    "    <div class=\"alert alert-warning\">\n",
    "        <b>\n",
    "            Try double-clicking on this text to see what some Markdown formatting looks like.\n",
    "        </b>\n",
    "    </div>\n",
    "</blockquote>"
   ]
  },
  {
   "cell_type": "code",
   "execution_count": 7,
   "id": "661dc990",
   "metadata": {},
   "outputs": [],
   "source": [
    "url = \"https://raw.githubusercontent.com/ds-modules/CalTeach-FA22/main/avocado/avocado.py\"\n",
    "import urllib.request\n",
    "urllib.request.urlretrieve(url, \"avocado.py\")\n",
    "from avocado import *\n",
    "%matplotlib inline"
   ]
  },
  {
   "cell_type": "markdown",
   "id": "7280d688",
   "metadata": {},
   "source": [
    "# 1. Introduction <a id='0'></a>\n",
    "\n",
    "Avocados. From guacamole to morning toast, avocados have risen in popularity immensely. They are used in salads and salsas, spring rolls and sandwiches – they are even snuck into chocolatey brownies! But of course, if more and more people want a product, what do you think will happen to the price?\n",
    "\n",
    "Let’s make a hypothesis of what you expect the price of avocados to look like overtime if more and more people continue to want them? In your hypothesis, include your:\n",
    "\n",
    "**Claim:** “Avocado prices will rise/drop/stay the same/etc.”\n",
    "\n",
    "**Explanation:** “because….”\n",
    "\n",
    "Type below:"
   ]
  },
  {
   "cell_type": "markdown",
   "id": "397cf69a",
   "metadata": {},
   "source": [
    "<code><b>Double-click to replace this and type your answer here!</b></code>"
   ]
  },
  {
   "cell_type": "markdown",
   "id": "9722046c",
   "metadata": {},
   "source": [
    "# 2. What is a t-test? <a id='1'></a>\n",
    "\n",
    "How can we look at changes overtime? Well, luckily the Hass Avocado Board has an extensive national dataset of avocado prices (and more!) from 2015 and onwards.\n",
    "\n",
    "Let’s take a look at a random sample of 50 avocado prices (ASP, or average selling price) in 2019 and 2022 from California."
   ]
  },
  {
   "cell_type": "markdown",
   "id": "1995f53f",
   "metadata": {},
   "source": [
    "Here's a random sample of 50 avocado prices in 2019:"
   ]
  },
  {
   "cell_type": "code",
   "execution_count": 8,
   "id": "b14683a1",
   "metadata": {
    "scrolled": true
   },
   "outputs": [
    {
     "data": {
      "text/html": [
       "<div>\n",
       "<style scoped>\n",
       "    .dataframe tbody tr th:only-of-type {\n",
       "        vertical-align: middle;\n",
       "    }\n",
       "\n",
       "    .dataframe tbody tr th {\n",
       "        vertical-align: top;\n",
       "    }\n",
       "\n",
       "    .dataframe thead th {\n",
       "        text-align: right;\n",
       "    }\n",
       "</style>\n",
       "<table border=\"1\" class=\"dataframe\">\n",
       "  <thead>\n",
       "    <tr style=\"text-align: right;\">\n",
       "      <th></th>\n",
       "      <th>Geography</th>\n",
       "      <th>Timeframe</th>\n",
       "      <th>Current Year Week Ending</th>\n",
       "      <th>Type</th>\n",
       "      <th>ASP Current Year</th>\n",
       "      <th>Total Bulk and Bags Units</th>\n",
       "      <th>4046 Units</th>\n",
       "      <th>4225 Units</th>\n",
       "      <th>4770 Units</th>\n",
       "      <th>TotalBagged Units</th>\n",
       "      <th>SmlBagged Units</th>\n",
       "      <th>LrgBagged Units</th>\n",
       "      <th>X-LrgBagged Units</th>\n",
       "      <th>Bulk GTIN</th>\n",
       "    </tr>\n",
       "  </thead>\n",
       "  <tbody>\n",
       "    <tr>\n",
       "      <th>4290</th>\n",
       "      <td>Miami/Ft. Lauderdale</td>\n",
       "      <td>Weekly</td>\n",
       "      <td>2019-07-07 00:00:00</td>\n",
       "      <td>Organic</td>\n",
       "      <td>1.876089</td>\n",
       "      <td>5748.09</td>\n",
       "      <td>293.47</td>\n",
       "      <td>0.00</td>\n",
       "      <td>0.00</td>\n",
       "      <td>5038.82</td>\n",
       "      <td>0.0</td>\n",
       "      <td>0.0</td>\n",
       "      <td>0.0</td>\n",
       "      <td>415.80</td>\n",
       "    </tr>\n",
       "    <tr>\n",
       "      <th>3206</th>\n",
       "      <td>Baltimore/Washington</td>\n",
       "      <td>Weekly</td>\n",
       "      <td>2019-09-01 00:00:00</td>\n",
       "      <td>Organic</td>\n",
       "      <td>1.702893</td>\n",
       "      <td>52435.12</td>\n",
       "      <td>791.43</td>\n",
       "      <td>4144.15</td>\n",
       "      <td>3.43</td>\n",
       "      <td>46087.32</td>\n",
       "      <td>0.0</td>\n",
       "      <td>0.0</td>\n",
       "      <td>0.0</td>\n",
       "      <td>1408.79</td>\n",
       "    </tr>\n",
       "    <tr>\n",
       "      <th>5768</th>\n",
       "      <td>Great Lakes</td>\n",
       "      <td>Weekly</td>\n",
       "      <td>2019-12-08 00:00:00</td>\n",
       "      <td>Organic</td>\n",
       "      <td>1.437606</td>\n",
       "      <td>150435.17</td>\n",
       "      <td>6535.13</td>\n",
       "      <td>20304.09</td>\n",
       "      <td>0.00</td>\n",
       "      <td>44641.65</td>\n",
       "      <td>0.0</td>\n",
       "      <td>0.0</td>\n",
       "      <td>0.0</td>\n",
       "      <td>78954.31</td>\n",
       "    </tr>\n",
       "    <tr>\n",
       "      <th>5098</th>\n",
       "      <td>San Diego</td>\n",
       "      <td>Weekly</td>\n",
       "      <td>2019-01-20 00:00:00</td>\n",
       "      <td>Organic</td>\n",
       "      <td>1.924543</td>\n",
       "      <td>15402.19</td>\n",
       "      <td>2290.67</td>\n",
       "      <td>7049.67</td>\n",
       "      <td>0.00</td>\n",
       "      <td>4359.24</td>\n",
       "      <td>0.0</td>\n",
       "      <td>0.0</td>\n",
       "      <td>0.0</td>\n",
       "      <td>1702.60</td>\n",
       "    </tr>\n",
       "    <tr>\n",
       "      <th>2684</th>\n",
       "      <td>Great Lakes</td>\n",
       "      <td>Weekly</td>\n",
       "      <td>2019-08-18 00:00:00</td>\n",
       "      <td>Conventional</td>\n",
       "      <td>1.363272</td>\n",
       "      <td>3145647.37</td>\n",
       "      <td>583052.06</td>\n",
       "      <td>681293.73</td>\n",
       "      <td>181540.67</td>\n",
       "      <td>480046.80</td>\n",
       "      <td>0.0</td>\n",
       "      <td>0.0</td>\n",
       "      <td>0.0</td>\n",
       "      <td>1219714.10</td>\n",
       "    </tr>\n",
       "  </tbody>\n",
       "</table>\n",
       "</div>"
      ],
      "text/plain": [
       "                 Geography Timeframe Current Year Week Ending          Type  \\\n",
       "4290  Miami/Ft. Lauderdale    Weekly      2019-07-07 00:00:00       Organic   \n",
       "3206  Baltimore/Washington    Weekly      2019-09-01 00:00:00       Organic   \n",
       "5768           Great Lakes    Weekly      2019-12-08 00:00:00       Organic   \n",
       "5098             San Diego    Weekly      2019-01-20 00:00:00       Organic   \n",
       "2684           Great Lakes    Weekly      2019-08-18 00:00:00  Conventional   \n",
       "\n",
       "      ASP Current Year  Total Bulk and Bags Units  4046 Units  4225 Units  \\\n",
       "4290          1.876089                    5748.09      293.47        0.00   \n",
       "3206          1.702893                   52435.12      791.43     4144.15   \n",
       "5768          1.437606                  150435.17     6535.13    20304.09   \n",
       "5098          1.924543                   15402.19     2290.67     7049.67   \n",
       "2684          1.363272                 3145647.37   583052.06   681293.73   \n",
       "\n",
       "      4770 Units  TotalBagged Units  SmlBagged Units  LrgBagged Units  \\\n",
       "4290        0.00            5038.82              0.0              0.0   \n",
       "3206        3.43           46087.32              0.0              0.0   \n",
       "5768        0.00           44641.65              0.0              0.0   \n",
       "5098        0.00            4359.24              0.0              0.0   \n",
       "2684   181540.67          480046.80              0.0              0.0   \n",
       "\n",
       "      X-LrgBagged Units   Bulk GTIN  \n",
       "4290                0.0      415.80  \n",
       "3206                0.0     1408.79  \n",
       "5768                0.0    78954.31  \n",
       "5098                0.0     1702.60  \n",
       "2684                0.0  1219714.10  "
      ]
     },
     "execution_count": 8,
     "metadata": {},
     "output_type": "execute_result"
    }
   ],
   "source": [
    "samp_2019.head()"
   ]
  },
  {
   "cell_type": "markdown",
   "id": "5949e474",
   "metadata": {},
   "source": [
    "And here's a random sample of 50 avocado prices in 2022:"
   ]
  },
  {
   "cell_type": "code",
   "execution_count": 9,
   "id": "6b29ef4c",
   "metadata": {},
   "outputs": [
    {
     "data": {
      "text/html": [
       "<div>\n",
       "<style scoped>\n",
       "    .dataframe tbody tr th:only-of-type {\n",
       "        vertical-align: middle;\n",
       "    }\n",
       "\n",
       "    .dataframe tbody tr th {\n",
       "        vertical-align: top;\n",
       "    }\n",
       "\n",
       "    .dataframe thead th {\n",
       "        text-align: right;\n",
       "    }\n",
       "</style>\n",
       "<table border=\"1\" class=\"dataframe\">\n",
       "  <thead>\n",
       "    <tr style=\"text-align: right;\">\n",
       "      <th></th>\n",
       "      <th>Geography</th>\n",
       "      <th>Timeframe</th>\n",
       "      <th>Current Year Week Ending</th>\n",
       "      <th>Type</th>\n",
       "      <th>ASP Current Year</th>\n",
       "      <th>Total Bulk and Bags Units</th>\n",
       "      <th>4046 Units</th>\n",
       "      <th>4225 Units</th>\n",
       "      <th>4770 Units</th>\n",
       "      <th>TotalBagged Units</th>\n",
       "      <th>SmlBagged Units</th>\n",
       "      <th>LrgBagged Units</th>\n",
       "      <th>X-LrgBagged Units</th>\n",
       "      <th>Bulk GTIN</th>\n",
       "    </tr>\n",
       "  </thead>\n",
       "  <tbody>\n",
       "    <tr>\n",
       "      <th>3253</th>\n",
       "      <td>Tampa</td>\n",
       "      <td>Weekly</td>\n",
       "      <td>2022-07-03 00:00:00</td>\n",
       "      <td>Organic</td>\n",
       "      <td>1.360740</td>\n",
       "      <td>65910.44</td>\n",
       "      <td>105.63</td>\n",
       "      <td>0.00</td>\n",
       "      <td>0.00</td>\n",
       "      <td>59530.21</td>\n",
       "      <td>NaN</td>\n",
       "      <td>NaN</td>\n",
       "      <td>NaN</td>\n",
       "      <td>6274.59</td>\n",
       "    </tr>\n",
       "    <tr>\n",
       "      <th>3915</th>\n",
       "      <td>Providence</td>\n",
       "      <td>Weekly</td>\n",
       "      <td>2022-08-14 00:00:00</td>\n",
       "      <td>Conventional</td>\n",
       "      <td>1.485207</td>\n",
       "      <td>82959.86</td>\n",
       "      <td>5865.68</td>\n",
       "      <td>53927.10</td>\n",
       "      <td>46.81</td>\n",
       "      <td>15218.99</td>\n",
       "      <td>NaN</td>\n",
       "      <td>NaN</td>\n",
       "      <td>NaN</td>\n",
       "      <td>7901.28</td>\n",
       "    </tr>\n",
       "    <tr>\n",
       "      <th>1010</th>\n",
       "      <td>Hartford/Springfield</td>\n",
       "      <td>Weekly</td>\n",
       "      <td>2022-03-06 00:00:00</td>\n",
       "      <td>Conventional</td>\n",
       "      <td>1.579247</td>\n",
       "      <td>308675.68</td>\n",
       "      <td>37227.39</td>\n",
       "      <td>184402.27</td>\n",
       "      <td>2153.63</td>\n",
       "      <td>75010.04</td>\n",
       "      <td>NaN</td>\n",
       "      <td>NaN</td>\n",
       "      <td>NaN</td>\n",
       "      <td>9882.34</td>\n",
       "    </tr>\n",
       "    <tr>\n",
       "      <th>1954</th>\n",
       "      <td>Hartford/Springfield</td>\n",
       "      <td>Weekly</td>\n",
       "      <td>2022-05-01 00:00:00</td>\n",
       "      <td>Conventional</td>\n",
       "      <td>1.506918</td>\n",
       "      <td>392880.00</td>\n",
       "      <td>75846.62</td>\n",
       "      <td>236413.77</td>\n",
       "      <td>614.46</td>\n",
       "      <td>70759.13</td>\n",
       "      <td>NaN</td>\n",
       "      <td>NaN</td>\n",
       "      <td>NaN</td>\n",
       "      <td>9245.63</td>\n",
       "    </tr>\n",
       "    <tr>\n",
       "      <th>1580</th>\n",
       "      <td>Seattle</td>\n",
       "      <td>Weekly</td>\n",
       "      <td>2022-04-17 00:00:00</td>\n",
       "      <td>Conventional</td>\n",
       "      <td>1.803577</td>\n",
       "      <td>532056.37</td>\n",
       "      <td>96289.39</td>\n",
       "      <td>37098.70</td>\n",
       "      <td>357.19</td>\n",
       "      <td>134913.99</td>\n",
       "      <td>NaN</td>\n",
       "      <td>NaN</td>\n",
       "      <td>NaN</td>\n",
       "      <td>263397.10</td>\n",
       "    </tr>\n",
       "  </tbody>\n",
       "</table>\n",
       "</div>"
      ],
      "text/plain": [
       "                 Geography Timeframe Current Year Week Ending          Type  \\\n",
       "3253                 Tampa    Weekly      2022-07-03 00:00:00       Organic   \n",
       "3915            Providence    Weekly      2022-08-14 00:00:00  Conventional   \n",
       "1010  Hartford/Springfield    Weekly      2022-03-06 00:00:00  Conventional   \n",
       "1954  Hartford/Springfield    Weekly      2022-05-01 00:00:00  Conventional   \n",
       "1580               Seattle    Weekly      2022-04-17 00:00:00  Conventional   \n",
       "\n",
       "      ASP Current Year  Total Bulk and Bags Units  4046 Units  4225 Units  \\\n",
       "3253          1.360740                   65910.44      105.63        0.00   \n",
       "3915          1.485207                   82959.86     5865.68    53927.10   \n",
       "1010          1.579247                  308675.68    37227.39   184402.27   \n",
       "1954          1.506918                  392880.00    75846.62   236413.77   \n",
       "1580          1.803577                  532056.37    96289.39    37098.70   \n",
       "\n",
       "      4770 Units  TotalBagged Units  SmlBagged Units  LrgBagged Units  \\\n",
       "3253        0.00           59530.21              NaN              NaN   \n",
       "3915       46.81           15218.99              NaN              NaN   \n",
       "1010     2153.63           75010.04              NaN              NaN   \n",
       "1954      614.46           70759.13              NaN              NaN   \n",
       "1580      357.19          134913.99              NaN              NaN   \n",
       "\n",
       "      X-LrgBagged Units  Bulk GTIN  \n",
       "3253                NaN    6274.59  \n",
       "3915                NaN    7901.28  \n",
       "1010                NaN    9882.34  \n",
       "1954                NaN    9245.63  \n",
       "1580                NaN  263397.10  "
      ]
     },
     "execution_count": 9,
     "metadata": {},
     "output_type": "execute_result"
    }
   ],
   "source": [
    "samp_2022.head()"
   ]
  },
  {
   "cell_type": "markdown",
   "id": "65b8503d",
   "metadata": {},
   "source": [
    "Here are some scatter plots representing data from the above tables!"
   ]
  },
  {
   "cell_type": "code",
   "execution_count": 10,
   "id": "5d157d07",
   "metadata": {},
   "outputs": [
    {
     "data": {
      "image/png": "[encoded data removed]",
      "text/plain": [
       "<Figure size 640x480 with 1 Axes>"
      ]
     },
     "metadata": {},
     "output_type": "display_data"
    }
   ],
   "source": [
    "make_scatter();"
   ]
  },
  {
   "cell_type": "markdown",
   "id": "f6652341",
   "metadata": {},
   "source": [
    "What are some observations (trend, mean/median, variability/range, outliers, significant data points, etc.) you have about the data in **2019**?"
   ]
  },
  {
   "cell_type": "markdown",
   "id": "b96a2ff3",
   "metadata": {},
   "source": [
    "<code><b>Double-click to replace this and type your answer here!</b></code>"
   ]
  },
  {
   "cell_type": "markdown",
   "id": "2562b99e",
   "metadata": {},
   "source": [
    "What are some observations (trend, mean/median, variability/range, outliers, significant data points, etc.) you have about the data in **2022**?"
   ]
  },
  {
   "cell_type": "markdown",
   "id": "e7710576",
   "metadata": {},
   "source": [
    "<code><b>Double-click to replace this and type your answer here!</b></code>"
   ]
  },
  {
   "cell_type": "markdown",
   "id": "1f5cca5a",
   "metadata": {},
   "source": [
    "What specific value(s) in each data set should we use to determine if there was a change overtime?"
   ]
  },
  {
   "cell_type": "markdown",
   "id": "29d8036b",
   "metadata": {},
   "source": [
    "<code><b>Double-click to replace this and type your answer here!</b></code>"
   ]
  },
  {
   "cell_type": "markdown",
   "id": "41ac8f2b",
   "metadata": {},
   "source": [
    "Looking at the dataset, what would you hypothesize? Do you think there is a change in price between the two years? In which direction? How confident are you and why?"
   ]
  },
  {
   "cell_type": "markdown",
   "id": "16b9761d",
   "metadata": {},
   "source": [
    "<code><b>Double-click to replace this and type your answer here!</b></code>"
   ]
  },
  {
   "cell_type": "markdown",
   "id": "b118d2f6",
   "metadata": {},
   "source": [
    "# 3. Background on t-tests <a id='2'></a>\n",
    "In most cases, when we look at two different data sets to compare, there may be some overlapping points. For example, even though the overall graph shows the price of avocados in 2022 being greater than the price of avocados in 2019, we still see some points in the 2022 graph that are less than points of the 2019 graph. If there is a lot of overlap, looking at a visual or single calculated value may not be enough!\n",
    "\n",
    "In this case, it may be best to use a **two sample t-test**. A two sample t-test is a statistical test that can help us compare the means, or average, of the two dataset. T-tests have a specific criteria that the data must abide by to work:\n",
    "\n",
    "The data has to be:\n",
    "- independent – the data do not affect each other\n",
    "- a randomly selected sample\n",
    "- large... (sample size recommended to be over 30, otherwise, it MUST be normally distributed)\n",
    "- ...but not too large (sample size is at MOST 10% of the total population)\n",
    "\n",
    "Keep in note, we are using samples of the entire population. That is why we can use a t-test! Otherwise we would use a different test. In most cases, you will not be able to collect data about an entire population, so _t-tests are incredibly useful here!_\n",
    "\n",
    "Remember, our question is: **Did the price of avocados increase from 2019 to 2022?**"
   ]
  },
  {
   "cell_type": "markdown",
   "id": "ec8dddfc",
   "metadata": {},
   "source": [
    "# 4. The first step of a t-test <a id='3'></a>\n",
    "\n",
    "The first t-test step is to create our null hypothesis ($H_0$) and alternative hypothesis ($H_a$).\n",
    "\n",
    "- A **null hypothesis** is our assumption that says there is no difference between the two means. Typically, the format would follow $\\mu_a = \\mu_b$, where a and b are your identifying titles to separate the two samples and $\\mu$ is the Greek letter Mu.\n",
    "- The **alternative hypothesis** is what we want to test. Typically, the format would follow $\\mu_a < \\mu_b$, $\\mu_a > \\mu_b$, or $\\mu_a \\neq \\mu_b$.\n",
    "\n",
    "Write down what you think the null hypothesis and alternative hypothesis would be using the variables $\\mu_{2019}$ and $\\mu_{2022}$:"
   ]
  },
  {
   "cell_type": "markdown",
   "id": "919852b2",
   "metadata": {},
   "source": [
    "$H_0$: <code><b>Double-click to replace this and type your answer here!</b></code>"
   ]
  },
  {
   "cell_type": "markdown",
   "id": "711449b4",
   "metadata": {},
   "source": [
    "$H_a$: <code><b>Double-click to replace this and type your answer here!</b></code>"
   ]
  },
  {
   "cell_type": "markdown",
   "id": "75728cb5",
   "metadata": {},
   "source": [
    "Let’s check if your hypotheses are correct!\n",
    "\n",
    "$H_0$: $\\mu_{2019} = \\mu_{2022}$\n",
    "\n",
    "$H_a$: $\\mu_{2019} < \\mu_{2022}$\n",
    "- _Note that ($\\mu_{2019} > \\mu_{2022}$ would also be correct! The process to solve this is the same, but let’s follow using the first inequality._"
   ]
  },
  {
   "cell_type": "markdown",
   "id": "759a698e",
   "metadata": {},
   "source": [
    "# 5. p-value <a id='4'></a>\n",
    "\n",
    "At the end, we will receive a **p-value**. That p-value is compared to the probability “limit,” helping us determine if we are able to reject our null hypothesis.\n",
    "\n",
    "The “limit” is called the significance level, denoted as α. Typically, α is set to 0.05, but it can vary depending on the field of study. Essentially, α = 0.05 just means **there is a 5% risk that we reject the null hypothesis (or conclude that there is a significant change) even though there is actually no difference between the means (null hypothesis is actually true!)**.\n",
    "\n",
    "So in the context of avocados, if we have a p-value that is lower than α = 0.05, we can assert with 95% confidence that _the prices of avocados from 2019 and 2022 are not the same_. That is, there is a 5% chance that the prices are the same, even though our calculations state otherwise.\n",
    "\n",
    "For this problem, let’s set our α = 0.05."
   ]
  },
  {
   "cell_type": "markdown",
   "id": "04c8d689",
   "metadata": {},
   "source": [
    "There are two ways to perform a t-test with this data: with a calculator function and without a calculator function. Let’s look at without first:"
   ]
  },
  {
   "cell_type": "markdown",
   "id": "7af244f9",
   "metadata": {},
   "source": [
    "# 6. Performing a t-test without a calculator <a id='5'></a>\n",
    "\n",
    "We start by finding the means, standard deviations, and the count of each data sample. \n",
    "\n",
    "We can find the **mean** by adding up each of the values and dividing the sum by the count:\n",
    "\n",
    "$$mean = \\frac{\\text{sum of the terms}}{\\text{number of terms}}$$\n",
    "\n",
    "**Standard deviation** for a sample is the square root of the sum of the square of each term subtracted by the mean divided by the number of terms minus one. That's a mouthful! Let’s look at the formula to understand this better:\n",
    "\n",
    "$$s=\\sqrt{\\frac{\\sum_{i=0}^n(x_{i}-\\bar{x})^2}{n-1}}$$\n",
    "\n",
    "where $x$ is the value, $\\bar{x}$ is the mean of the value, and $n$ is the count (the number of data points you have in the sample).\n",
    "\n",
    "All of these values can be determined manually through a calculator, or you can use the _2-Var Stats_ function under `[STAT]` on a TI-84 as you'll see in the following section."
   ]
  },
  {
   "cell_type": "markdown",
   "id": "9e07e933",
   "metadata": {},
   "source": [
    "# 7. Performing a t-test with a calculator <a id='6'></a>\n",
    "\n",
    "To use a TI-84:\n",
    "1. Press `[STAT]`.\n",
    "2. Press `[ENTER]` or `[1]` to get into EDIT\n",
    "3. Input your data into the lists. Each list should correspond to a sample.\n",
    "4. Press `[STAT]` again.\n",
    "5. Use the arrows to scroll over to CALC and hit `[2]` or select \"2-Var Stats\".\n",
    "6. Set \"Xlist\" as one of your filled lists. Set \"Ylist\" as your other filled list. You can change the list by hitting `[2ND][LIST]` and scrolling down on NAMES to select your desired list.\n",
    "7. Leave FreqList empty. \n",
    "8. Scroll to the bottom and hit **Calculate**.\n",
    "\n",
    "You specifically want to record $\\bar{x}$, $S_x$, $\\bar{y}$, $S_y$, and $n$. Note that if the two samples are different sizes, then you can do two 1-Var Stats tests for each sample. Make sure to note $n_x$ and $n_y$."
   ]
  },
  {
   "cell_type": "markdown",
   "id": "81c117be",
   "metadata": {},
   "source": [
    "Let the x-variables represent the data sample from 2019. Let the y-variables represent the data sample from 2022.\n",
    "\n",
    "What did you get for each of the values?"
   ]
  },
  {
   "cell_type": "markdown",
   "id": "268de99c",
   "metadata": {},
   "source": [
    "$\\bar{x}_{2019}$: <code><b>Double-click to replace this and type your answer here!</b></code>\n",
    "\n",
    "$S_{2019}$: <code><b>Double-click to replace this and type your answer here!</b></code>\n",
    "\n",
    "$\\bar{x}_{2022}$: <code><b>Double-click to replace this and type your answer here!</b></code>\n",
    "\n",
    "$S_{2022}$: <code><b>Double-click to replace this and type your answer here!</b></code>\n",
    "\n",
    "$n_{2022}$: <code><b>Double-click to replace this and type your answer here!</b></code>\n",
    "\n",
    "$n_{2019}$: <code><b>Double-click to replace this and type your answer here!</b></code>"
   ]
  },
  {
   "cell_type": "markdown",
   "id": "ce16fced",
   "metadata": {},
   "source": [
    "Let’s check your work!"
   ]
  },
  {
   "cell_type": "code",
   "execution_count": 11,
   "id": "a0fd9095",
   "metadata": {},
   "outputs": [
    {
     "data": {
      "text/markdown": [
       "## 2019"
      ],
      "text/plain": [
       "<IPython.core.display.Markdown object>"
      ]
     },
     "metadata": {},
     "output_type": "display_data"
    },
    {
     "data": {
      "text/markdown": [
       "$\\bar{x}_{2019}$:"
      ],
      "text/plain": [
       "<IPython.core.display.Markdown object>"
      ]
     },
     "metadata": {},
     "output_type": "display_data"
    },
    {
     "data": {
      "text/markdown": [
       "$1.561$"
      ],
      "text/plain": [
       "<IPython.core.display.Markdown object>"
      ]
     },
     "metadata": {},
     "output_type": "display_data"
    },
    {
     "data": {
      "text/markdown": [
       "$S_{2019}$:"
      ],
      "text/plain": [
       "<IPython.core.display.Markdown object>"
      ]
     },
     "metadata": {},
     "output_type": "display_data"
    },
    {
     "data": {
      "text/markdown": [
       "$0.435$"
      ],
      "text/plain": [
       "<IPython.core.display.Markdown object>"
      ]
     },
     "metadata": {},
     "output_type": "display_data"
    },
    {
     "data": {
      "text/markdown": [
       "$n_{2019}$:"
      ],
      "text/plain": [
       "<IPython.core.display.Markdown object>"
      ]
     },
     "metadata": {},
     "output_type": "display_data"
    },
    {
     "data": {
      "text/markdown": [
       "$50$"
      ],
      "text/plain": [
       "<IPython.core.display.Markdown object>"
      ]
     },
     "metadata": {},
     "output_type": "display_data"
    },
    {
     "data": {
      "text/markdown": [
       "## 2022"
      ],
      "text/plain": [
       "<IPython.core.display.Markdown object>"
      ]
     },
     "metadata": {},
     "output_type": "display_data"
    },
    {
     "data": {
      "text/markdown": [
       "$\\bar{x}_{2022}$:"
      ],
      "text/plain": [
       "<IPython.core.display.Markdown object>"
      ]
     },
     "metadata": {},
     "output_type": "display_data"
    },
    {
     "data": {
      "text/markdown": [
       "$1.498$"
      ],
      "text/plain": [
       "<IPython.core.display.Markdown object>"
      ]
     },
     "metadata": {},
     "output_type": "display_data"
    },
    {
     "data": {
      "text/markdown": [
       "$S_{2022}$:"
      ],
      "text/plain": [
       "<IPython.core.display.Markdown object>"
      ]
     },
     "metadata": {},
     "output_type": "display_data"
    },
    {
     "data": {
      "text/markdown": [
       "$0.311$"
      ],
      "text/plain": [
       "<IPython.core.display.Markdown object>"
      ]
     },
     "metadata": {},
     "output_type": "display_data"
    },
    {
     "data": {
      "text/markdown": [
       "$n_{2022}$:"
      ],
      "text/plain": [
       "<IPython.core.display.Markdown object>"
      ]
     },
     "metadata": {},
     "output_type": "display_data"
    },
    {
     "data": {
      "text/markdown": [
       "$50$"
      ],
      "text/plain": [
       "<IPython.core.display.Markdown object>"
      ]
     },
     "metadata": {},
     "output_type": "display_data"
    }
   ],
   "source": [
    "show_stats()"
   ]
  },
  {
   "cell_type": "markdown",
   "id": "4783208f",
   "metadata": {},
   "source": [
    "# 8. Finding $t$ <a id='7'></a>\n",
    "\n",
    "Great job finding the main data statistics! Let’s use this information to help us form a t-test now!\n",
    "The general formula to find the t-statistic is:\n",
    "\n",
    "$$t=\\frac{\\bar{x_a}-\\bar{x_b}}{\\sqrt{\\frac{s_a^2}{n_a}-\\frac{s_b^2}{n_b}}}$$\n",
    "\n",
    "In this case, we can rewrite the formula in terms of our own variables:\n",
    "\n",
    "$$t=\\frac{\\bar{x_{2019}}-\\bar{x_{2022}}}{\\sqrt{\\frac{s_{2019}^2-s_{2022}^2}{n}}}$$"
   ]
  },
  {
   "cell_type": "markdown",
   "id": "9a543d92",
   "metadata": {},
   "source": [
    "<code><b>Double-click to replace this and type your answer here!</b></code>"
   ]
  },
  {
   "cell_type": "markdown",
   "id": "e30f7e93",
   "metadata": {},
   "source": [
    "Go ahead and plug in the values to see what you get:"
   ]
  },
  {
   "cell_type": "markdown",
   "id": "19f55a7b",
   "metadata": {},
   "source": [
    "$t$ = <code><b>Double-click to replace this and type your answer here!</b></code>"
   ]
  },
  {
   "cell_type": "markdown",
   "id": "e6bdd990",
   "metadata": {},
   "source": [
    "Let’s check our work again:"
   ]
  },
  {
   "cell_type": "code",
   "execution_count": 12,
   "id": "6fa9d98b",
   "metadata": {},
   "outputs": [
    {
     "data": {
      "text/markdown": [
       "## T-Test"
      ],
      "text/plain": [
       "<IPython.core.display.Markdown object>"
      ]
     },
     "metadata": {},
     "output_type": "display_data"
    },
    {
     "data": {
      "text/markdown": [
       "$t$:"
      ],
      "text/plain": [
       "<IPython.core.display.Markdown object>"
      ]
     },
     "metadata": {},
     "output_type": "display_data"
    },
    {
     "data": {
      "text/markdown": [
       "$0.824$"
      ],
      "text/plain": [
       "<IPython.core.display.Markdown object>"
      ]
     },
     "metadata": {},
     "output_type": "display_data"
    }
   ],
   "source": [
    "t, p = t_test(\"t\")"
   ]
  },
  {
   "cell_type": "markdown",
   "id": "5c20f6b2",
   "metadata": {},
   "source": [
    "# 9. Visualizing the results <a id='8'></a>\n",
    "We are almost there! Now we have to find the probability of the t-distribution of becoming more extreme than the t-statistic. Let’s visualize this!"
   ]
  },
  {
   "cell_type": "code",
   "execution_count": 13,
   "id": "6c854f72",
   "metadata": {
    "scrolled": false
   },
   "outputs": [
    {
     "data": {
      "image/png": "[encoded data removed]",
      "text/plain": [
       "<Figure size 640x480 with 1 Axes>"
      ]
     },
     "metadata": {},
     "output_type": "display_data"
    }
   ],
   "source": [
    "plot_normal()"
   ]
  },
  {
   "cell_type": "markdown",
   "id": "0322c5f8",
   "metadata": {},
   "source": [
    "This is a standard normal curve. The mean is at the middle line where $x=0$.\n",
    "\n",
    "Let’s now try to graph where a generic t-statistic would land from both ends of the mean – let’s say t-statistic = 1. "
   ]
  },
  {
   "cell_type": "code",
   "execution_count": 14,
   "id": "ec9f31de",
   "metadata": {
    "scrolled": false
   },
   "outputs": [
    {
     "data": {
      "image/png": "[encoded data removed]",
      "text/plain": [
       "<Figure size 640x480 with 1 Axes>"
      ]
     },
     "metadata": {},
     "output_type": "display_data"
    }
   ],
   "source": [
    "plot_t()"
   ]
  },
  {
   "cell_type": "markdown",
   "id": "f7176c08",
   "metadata": {},
   "source": [
    "When we deal with finding the probability, we actually want to look at the tail(s) of the graph, so focus on the red areas instead of the green!"
   ]
  },
  {
   "cell_type": "markdown",
   "id": "acb97108",
   "metadata": {},
   "source": [
    "If we want to find the probability that:\n",
    "- $\\mu_a < \\mu_b$: Find the probability of the left tail end.\n",
    "- $\\mu_a > \\mu_b$: Find the probability of the right tail end.\n",
    "- $\\mu_a \\neq \\mu_b$: Find the probability of the left tail end and the right tail end (double the value)."
   ]
  },
  {
   "cell_type": "markdown",
   "id": "b961a027",
   "metadata": {},
   "source": [
    "Describe what portion of the normal curve you are wanting to find the probability of for our avocado problem! Make sure to include the t-statistic and whether you are looking at the left-hand tail, right-hand tail, or both."
   ]
  },
  {
   "cell_type": "markdown",
   "id": "6417a908",
   "metadata": {},
   "source": [
    "<code><b>Double-click to replace this and type your answer here!</b></code>"
   ]
  },
  {
   "cell_type": "markdown",
   "id": "b618669e",
   "metadata": {},
   "source": [
    "The normal graph should look something like:"
   ]
  },
  {
   "cell_type": "code",
   "execution_count": 15,
   "id": "5081f1bb",
   "metadata": {
    "scrolled": false
   },
   "outputs": [
    {
     "data": {
      "image/png": "[encoded data removed]",
      "text/plain": [
       "<Figure size 640x480 with 1 Axes>"
      ]
     },
     "metadata": {},
     "output_type": "display_data"
    }
   ],
   "source": [
    "plot_t(t)"
   ]
  },
  {
   "cell_type": "markdown",
   "id": "81a8adc5",
   "metadata": {},
   "source": [
    "And you want to find the probability of the red portion!\n",
    "\n",
    "So how do we find the probability? We can use a test in our calculators called tcdf!"
   ]
  },
  {
   "cell_type": "markdown",
   "id": "9c157ca9",
   "metadata": {},
   "source": [
    "To find the probability:\n",
    "1. Press `[2ND][DISTR]`\n",
    "2. Press `[6]` or scroll to \"tdcf(\"\n",
    "3. Enter your lower bound. If your lower bound is the end of the curve, put -1E99; to enter E, press `[2ND][EE]`).\n",
    "4. Enter your upper bound. If your upper bound is the end of the curve, put 1E99; to enter E, press `[2ND][EE]`).\n",
    "5. Enter the smallest sample size minus 1 as the df.\n",
    "6. Hit `Paste`."
   ]
  },
  {
   "cell_type": "markdown",
   "id": "a3ce4ff1",
   "metadata": {},
   "source": [
    "Determine the probability for our avocado data:"
   ]
  },
  {
   "cell_type": "markdown",
   "id": "aaa5f2b0",
   "metadata": {},
   "source": [
    "tcdf(`____`, `_____`, `_____`) = `______`"
   ]
  },
  {
   "cell_type": "markdown",
   "id": "1384674e",
   "metadata": {},
   "source": [
    "Check your work!"
   ]
  },
  {
   "cell_type": "code",
   "execution_count": 16,
   "id": "c2190f93",
   "metadata": {},
   "outputs": [
    {
     "data": {
      "text/markdown": [
       "## P-Value"
      ],
      "text/plain": [
       "<IPython.core.display.Markdown object>"
      ]
     },
     "metadata": {},
     "output_type": "display_data"
    },
    {
     "data": {
      "text/markdown": [
       "$p$:"
      ],
      "text/plain": [
       "<IPython.core.display.Markdown object>"
      ]
     },
     "metadata": {},
     "output_type": "display_data"
    },
    {
     "data": {
      "text/markdown": [
       "$0.412$"
      ],
      "text/plain": [
       "<IPython.core.display.Markdown object>"
      ]
     },
     "metadata": {},
     "output_type": "display_data"
    }
   ],
   "source": [
    "t, p = t_test(\"p\")"
   ]
  },
  {
   "cell_type": "markdown",
   "id": "e33ac98b",
   "metadata": {},
   "source": [
    "# 10. Analyze the p-value <a id='9'></a>\n",
    "Great! We got our numbers and now it is time to interpret the data! Remember that significance level we talked about before? We are going to compare our probability, commonly known as **p-value**, to $\\alpha$. There are two outcomes:\n",
    "\n",
    "Fill in the _[bracketed]_ terms with your own words/calculations:\n",
    "- p-value < $\\alpha$\n",
    "    - This is great! We can reject the null hypothesis and suggest the alternative hypothesis. \n",
    "    - \"Since the p-value of _[p-value]_ is less than 0.05, we can reject the null hypothesis of no difference in favor of the alternative and conclude that, on average, _[describe Ha in words]_.”\n",
    "- p-value > $\\alpha$\n",
    "    - Here, we cannot reject the null hypothesis! Note that we DO NOT accept the null hypothesis, it just means we cannot make a firm conclusion.\n",
    "    - “Because the p-value of _[p-value]_ is larger than 0.05, we fail to reject the null hypothesis. There is not convincing evidence that _[describe Ha in words]_.”"
   ]
  },
  {
   "cell_type": "markdown",
   "id": "9eb387d7",
   "metadata": {},
   "source": [
    "With our p-value, analyze your results by comparing it to $\\alpha$ = 0.05."
   ]
  },
  {
   "cell_type": "markdown",
   "id": "c20de822",
   "metadata": {},
   "source": [
    "<code><b>Double-click to replace this and type your answer here!</b></code>"
   ]
  },
  {
   "cell_type": "markdown",
   "id": "fe3d72d4",
   "metadata": {},
   "source": [
    "Check your work!"
   ]
  },
  {
   "cell_type": "markdown",
   "id": "77afd676",
   "metadata": {},
   "source": [
    "- p-value < $\\alpha$\n",
    "    - “Since the p-value of [p-value] is less than 0.05, we can reject the null hypothesis of no difference in favor of the alternative and conclude that, on average, the price of avocados in 2019 is less than the price of avocados in 2022. ”\n",
    "- p-value > $\\alpha$\n",
    "    - Here, we cannot reject the null hypothesis! Note that we DO NOT accept the null hypothesis, it just means we cannot make a firm conclusion.\n",
    "    - “Because the p-value of [p-value] is larger than 0.05, we fail to reject the null hypothesis. There is not convincing evidence that the price of avocados in 2019 is less than the price of avocados in 2022.”\n"
   ]
  },
  {
   "cell_type": "markdown",
   "id": "cf2cee58",
   "metadata": {},
   "source": [
    "And that's how you perform a t-test!"
   ]
  },
  {
   "cell_type": "markdown",
   "id": "bfb3b28c",
   "metadata": {},
   "source": [
    "# Conclusion <a id='10'></a>\n",
    "\n",
    "**Congratulations on finishing the notebook!** There was a lot of content but here's what you learned throughout this notebook:\n",
    "- how to create a null & alternative hypothesis.\n",
    "- how to understand, perform, and analyze results of a _t-test_ using data, with and without a calculator.\n",
    "- how to analyze a p-value."
   ]
  },
  {
   "cell_type": "markdown",
   "id": "6aa574cf",
   "metadata": {},
   "source": [
    "# Survey <a id='11'></a>\n",
    "\n",
    "This survey is all anonymous. You are not required to answer any questions, but responses are highly encouraged! These answers will be used to study curriculum and how to improve (online) lessons."
   ]
  },
  {
   "cell_type": "markdown",
   "id": "f5a55a28",
   "metadata": {},
   "source": [
    "- Grade:"
   ]
  },
  {
   "cell_type": "markdown",
   "id": "7c9cba7c",
   "metadata": {},
   "source": [
    "<code><b>Double-click to replace this and type your answer here!</b></code>"
   ]
  },
  {
   "cell_type": "markdown",
   "id": "962217a6",
   "metadata": {},
   "source": [
    "- Have you taken or are you currently taking a statistics course: <code><b>YES / NO</b></code>\n"
   ]
  },
  {
   "cell_type": "markdown",
   "id": "7860d75a",
   "metadata": {},
   "source": [
    "<code><b>Double-click to replace this and type your answer here!</b></code>"
   ]
  },
  {
   "cell_type": "markdown",
   "id": "6df0fe9c",
   "metadata": {},
   "source": [
    "- What did you like about this lesson (topic, structure, etc.)?:"
   ]
  },
  {
   "cell_type": "markdown",
   "id": "ade67221",
   "metadata": {},
   "source": [
    "<code><b>Double-click to replace this and type your answer here!</b></code>"
   ]
  },
  {
   "cell_type": "markdown",
   "id": "a4c7f41a",
   "metadata": {},
   "source": [
    "- What did you not like about this lesson (topic, structure, etc. / What would you like changed?):"
   ]
  },
  {
   "cell_type": "markdown",
   "id": "55edee5c",
   "metadata": {},
   "source": [
    "<code><b>Double-click to replace this and type your answer here!</b></code>"
   ]
  },
  {
   "cell_type": "markdown",
   "id": "7ab46ce7",
   "metadata": {},
   "source": [
    "- On a scale of 1-10, how effective was the lesson (How much information did you retain?):\n"
   ]
  },
  {
   "cell_type": "markdown",
   "id": "d616c408",
   "metadata": {},
   "source": [
    "<code><b>Double-click to replace this and type your answer here!</b></code>"
   ]
  },
  {
   "cell_type": "markdown",
   "id": "ac64a904",
   "metadata": {},
   "source": [
    "- On a scale of (easy) 1-10 (hard), how would you rate the usability/ease of Jupyter Notebook in terms of this curriculum:"
   ]
  },
  {
   "cell_type": "markdown",
   "id": "9e8053bd",
   "metadata": {},
   "source": [
    "<code><b>Double-click to replace this and type your answer here!</b></code>"
   ]
  },
  {
   "cell_type": "markdown",
   "id": "cd3d67ad",
   "metadata": {},
   "source": [
    "- On a scale of 1-10, how likely are you to recommend this lesson to others:"
   ]
  },
  {
   "cell_type": "markdown",
   "id": "2fcab744",
   "metadata": {},
   "source": [
    "<code><b>Double-click to replace this and type your answer here!</b></code>"
   ]
  },
  {
   "cell_type": "markdown",
   "id": "44defbdf",
   "metadata": {},
   "source": [
    "# Feedback Form <a id='13'></a>\n",
    "\n",
    "<div class=\"alert alert-info\">\n",
    "<b> We encourage student to fill out the following feedback form to share your experience with this Module notebook. This feedback form will take no longer than 5 minutes. At UC Berkeley Data Science Undergraduate Studies Modules, we appreciate all feedback to improve the learning of students and experience utilizing Jupyter Notebooks for Data Science Education: </b> \n",
    "</div>\n",
    "\n",
    "# [UC Berkeley Data Science Feedback Form](https://forms.gle/hipxf2uFw5Ud4Hyn8)"
   ]
  }
 ],
 "metadata": {
  "kernelspec": {
   "display_name": "Python 3 (ipykernel)",
   "language": "python",
   "name": "python3"
  },
  "language_info": {
   "codemirror_mode": {
    "name": "ipython",
    "version": 3
   },
   "file_extension": ".py",
   "mimetype": "text/x-python",
   "name": "python",
   "nbconvert_exporter": "python",
   "pygments_lexer": "ipython3",
   "version": "3.9.13"
  },
  "vscode": {
   "interpreter": {
    "hash": "aee8b7b246df8f9039afb4144a1f6fd8d2ca17a180786b69acc140d282b71a49"
   }
  }
 },
 "nbformat": 4,
 "nbformat_minor": 5
}
