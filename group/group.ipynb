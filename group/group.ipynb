{
 "cells": [
  {
   "cell_type": "markdown",
   "metadata": {},
   "source": [
    "# Group Theory\n",
    "> Curriculum by Aubrey Ireland McGregor-Moore\n",
    "\n",
    "> Developed by Jonathan Ferrari"
   ]
  },
  {
   "cell_type": "markdown",
   "metadata": {},
   "source": [
    "## Introduction to Jupyter Notebook"
   ]
  },
  {
   "cell_type": "markdown",
   "metadata": {},
   "source": [
    "### Notebook Structure\n",
    "\n",
    "### Cell Types\n",
    "A notebook is composed of rectangular sections called **cells**. There are 2 kinds of cells: markdown and code. \n",
    "- A **markdown cell**, such as this one, contains text. \n",
    "- A **code cell** contains code in Python, a programming language that we will be using with all of our data science modules in this class. You can select any cell by clicking it once.\n",
    "    - Code cells can also contain code in other languages like Julia, or R: both of which can also be used in data analysis\n",
    "\n",
    "### Running Cells\n",
    "To \"run\" a code cell (i.e. tell the computer to perform the programmed instructions in the cell), select it and then,\n",
    "- Press `Shift` + `Enter` to run the cell and move to the following cell\n",
    "- Press `Command/Control` + `Enter` to run the cell but stay on the same cell\n",
    "    - This can be used repeatedley to re-run the same process\n",
    "- Click the Run button in the toolbar at the top of the screen. \n",
    "\n",
    "### Results and Outputs of a Cell\n",
    "When you run a code cell, a number of things can happen, depending on the type and contents of the cell:\n",
    "1. If the cell is a markdown cell, the text will be rendered according to the structure (_Markdown_, _HTML_, etc.)\n",
    "2. If the cell is a code cell, the result of the last line in the cell will be shown\n",
    "    - This output may be text, a number, a picture, or a visualization\n",
    "\n",
    "If a code cell is running, you will see an asterisk (\\*) appear in the square brackets to the left of the cell. Once the cell has finished running, a number will replace the asterisk and any output from the code will appear under the cell.\n",
    "\n",
    "Let's try it! **Run the cell below to see the output.** Feel free to play around with the code -- try changing 'World' to your name."
   ]
  },
  {
   "cell_type": "code",
   "execution_count": null,
   "metadata": {},
   "outputs": [],
   "source": [
    "print(\"Hello World!\") # Run the cell by using one of the methods we mentioned above!"
   ]
  },
  {
   "cell_type": "markdown",
   "metadata": {},
   "source": [
    "### Comments\n",
    "You'll notice that many code cells contain lines of blue text that start with a `#`. These are ***comments***. Comments often contain helpful information about what the code does or what you are supposed to do in the cell. The leading `#` tells the computer to ignore whatever text follows it."
   ]
  },
  {
   "cell_type": "markdown",
   "metadata": {},
   "source": [
    "### Editing the Notebook\n",
    "\n",
    "You can change the text in a markdown cell by clicking it twice. Text in markdown cells is written in [**Markdown**](https://daringfireball.net/projects/markdown/), a formatting language for plain text, so you may see some funky symbols should you try and edit a markdown cell we've already written. Once you've made changes to a markdown cell, you can exit editing mode by running the cell the same way you'd run a code cell.\n",
    "\n",
    "<blockquote>\n",
    "    <div class=\"alert alert-warning\">\n",
    "        <b>\n",
    "            Try double-clicking on this text to see what some Markdown formatting looks like.\n",
    "        </b>\n",
    "    </div>\n",
    "</blockquote>"
   ]
  },
  {
   "cell_type": "markdown",
   "metadata": {},
   "source": [
    "### Python Basics <a id='subsectionpy'></a>\n",
    "[**Python**](https://www.python.org/) is a programming language – a way for us to communicate with the computer and give it instructions.\n",
    "\n",
    "Just like any language, Python has a set vocabulary made up of words it can understand, and a syntax which provides the rules for how to structure our commands and give instructions.\n",
    "\n",
    "### Math\n",
    "Python is a great language for math, as it is easy to understand, and looks very similar to what it would look like in a regular scientific calculator!\n",
    "\n",
    "- `+` Acts as the addition operator\n",
    "- `-` Acts as the subtraction operator and can also act as a negative sign if next to a number (e.g., `-2` vs `- 2`)\n",
    "- `*` Acts as the multiplication operator\n",
    "- `**` Acts as the exponentiation operator\n",
    "- `/` Acts as the division operator\n",
    "- `()` Acts as the grouping operator\n",
    "\n",
    "There are two types of numbers in python: Integers, also known as `int`, (e.g., `4`, `7`, `15`, `2354`) and decimal numbers, aka `float` (e.g., `13.0`, `14.5`, `2.731`, `3.1415`). \n",
    "\n",
    "When using the `/` operator, even if the result is a whole number, the result will be a `float`. For example, `10 / 5` is `2.0`, not `2`.\n",
    "\n",
    "> There are other, more advanced operators such as [floor division](https://www.pythontutorial.net/advanced-python/python-floor-division/) and [modulo](https://realpython.com/python-modulo-operator/), however, we won't be using those for the time being, so feel free to explore if you'd like, but this is very out of scope for this material\n",
    "\n",
    "Let's look at some examples of using these operators. As usual, feel free to play artound with these cells or even add new ones to explore how these operations work!"
   ]
  },
  {
   "cell_type": "code",
   "execution_count": null,
   "metadata": {},
   "outputs": [],
   "source": [
    "1 + 3"
   ]
  },
  {
   "cell_type": "code",
   "execution_count": null,
   "metadata": {},
   "outputs": [],
   "source": [
    "1 + 10 / 2 + 7"
   ]
  },
  {
   "cell_type": "code",
   "execution_count": null,
   "metadata": {},
   "outputs": [],
   "source": [
    "5 ** 2"
   ]
  },
  {
   "cell_type": "code",
   "execution_count": null,
   "metadata": {},
   "outputs": [],
   "source": [
    "3 * 4"
   ]
  },
  {
   "cell_type": "code",
   "execution_count": null,
   "metadata": {},
   "outputs": [],
   "source": [
    "(6 + 4) * 2 - 15"
   ]
  },
  {
   "cell_type": "code",
   "execution_count": null,
   "metadata": {},
   "outputs": [],
   "source": [
    "2 - 100 * -2"
   ]
  },
  {
   "cell_type": "markdown",
   "metadata": {},
   "source": [
    "### Strings\n",
    "Strings are what we call words or text in Python. A string is surrounded in either single ('') or double (\"\") quotes. Here are some examples of strings"
   ]
  },
  {
   "cell_type": "code",
   "execution_count": null,
   "metadata": {},
   "outputs": [],
   "source": [
    "\"This is a string\""
   ]
  },
  {
   "cell_type": "code",
   "execution_count": null,
   "metadata": {},
   "outputs": [],
   "source": [
    "'This is too'"
   ]
  },
  {
   "cell_type": "code",
   "execution_count": 1,
   "metadata": {},
   "outputs": [
    {
     "data": {
      "text/plain": [
       "'eVeNtHiSiSaStRiNg'"
      ]
     },
     "execution_count": 1,
     "metadata": {},
     "output_type": "execute_result"
    }
   ],
   "source": [
    "\"eVeNtHiSiSaStRiNg\""
   ]
  },
  {
   "cell_type": "markdown",
   "metadata": {},
   "source": [
    "### Variable Examples\n",
    "Let's look at a couple examples of when using variables can help us immensely!"
   ]
  },
  {
   "cell_type": "markdown",
   "metadata": {},
   "source": [
    "#### Example 1: Seconds in a Year\n",
    "Let's say we want to find out how many seconds are in a year. We could calcluate it raw as following: $$60 \\cdot 60 \\cdot 24 \\cdot 365$$ However, someone reading this may not understand it, and we might want to use this information for further calculations. Let's see how we can do this using variables!"
   ]
  },
  {
   "cell_type": "code",
   "execution_count": 3,
   "metadata": {},
   "outputs": [
    {
     "data": {
      "text/plain": [
       "31536000"
      ]
     },
     "execution_count": 3,
     "metadata": {},
     "output_type": "execute_result"
    }
   ],
   "source": [
    "days = 365 #the days in a year\n",
    "hours = 24 #the hours in a day\n",
    "minutes = 60 #the minutes in an hour\n",
    "seconds = 60 #the seconds in a minute\n",
    "seconds_per_year = days * hours * minutes * seconds #the seconds in one year\n",
    "seconds_per_year"
   ]
  },
  {
   "cell_type": "markdown",
   "metadata": {},
   "source": [
    "This method is far easier to understand, and we can use our new variable `seconds_per_year` to answer other questions! Lets say we wanted to find the number of seconds in half a year, $7$ years, $234$ years, or even $3.1415$ years as follows!"
   ]
  },
  {
   "cell_type": "code",
   "execution_count": 4,
   "metadata": {},
   "outputs": [
    {
     "name": "stdout",
     "output_type": "stream",
     "text": [
      "Seconds in half a year: 15768000.0\n",
      "Seconds in seven years: 220752000\n",
      "Seconds in two hundred and thirty-four years: 7663248000\n",
      "Seconds in 3.1415 years: 99070344.0\n"
     ]
    }
   ],
   "source": [
    "print(\"Seconds in half a year:\", seconds_per_year / 2)\n",
    "print(\"Seconds in seven years:\", seconds_per_year * 7)\n",
    "print(\"Seconds in two hundred and thirty-four years:\", seconds_per_year * 243)\n",
    "print(\"Seconds in 3.1415 years:\", seconds_per_year * 3.1415)"
   ]
  },
  {
   "cell_type": "markdown",
   "metadata": {},
   "source": [
    "As you can see, we don't need to re-do the problem four times to get all the results, we just need to use the result we already calculated! (Cool right?)"
   ]
  },
  {
   "cell_type": "markdown",
   "metadata": {},
   "source": [
    "#### Example 2: Equation of a Line\n",
    "If you haven't done algebra in a while, for reference, the equation of a line is $$y = mx + b$$ We can use variables to easily calculate the $y$ for any $x$, and we can set $m$ (the slope) and $b$ (the intercept)."
   ]
  },
  {
   "cell_type": "code",
   "execution_count": 5,
   "metadata": {},
   "outputs": [
    {
     "name": "stdout",
     "output_type": "stream",
     "text": [
      "On the line y = 1x + 5, at x = 4, y is equal to 9\n"
     ]
    }
   ],
   "source": [
    "m = 1 #the slope\n",
    "b = 5 #the intercept\n",
    "x = 4 # try changing this value to see how the output changes!\n",
    "y = m * x + b\n",
    "print(f\"On the line y = {m}x + {b}, at x = {x}, y is equal to {y}\")"
   ]
  },
  {
   "cell_type": "markdown",
   "metadata": {},
   "source": [
    "## Part 1"
   ]
  },
  {
   "cell_type": "markdown",
   "metadata": {},
   "source": [
    "### Number systems (A focus on rational numbers)\n",
    "\n",
    "How many numbers are in the universe? 1, 2, 3… \n",
    "Well 1, 1.5, 2, 2.5 oh. Wait there’s 0, 1, 2, … There are too many to count! \n",
    "Whole numbers, fractions, square roots, pi, the list goes on. \n",
    "Different numbers have different properties and we can use them in fun and productive ways!\n",
    "\n",
    "![Group Image](../img/group.png)\n",
    "\n",
    "Each number system has its own symbol!"
   ]
  },
  {
   "cell_type": "markdown",
   "metadata": {},
   "source": [
    "$\\mathbb{N}$ represents the Natural Numbers\n",
    "\tAs you can see from the diagram, the Natural numbers include all positive numbers EXCLUDING 0. \n",
    "\n",
    "Give an example of a Natural Number:"
   ]
  },
  {
   "cell_type": "markdown",
   "metadata": {},
   "source": [
    "`YOUR ANSWER HERE`"
   ]
  },
  {
   "cell_type": "markdown",
   "metadata": {},
   "source": [
    "$\\mathbb{Z}$ represents the Integers\n",
    "\tThe Integers include the Natural numbers INCLUDING 0 and the negative numbers.\n",
    "\n",
    "Give a new example of an Integer:"
   ]
  },
  {
   "cell_type": "markdown",
   "metadata": {},
   "source": [
    "`YOUR ANSWER HERE`"
   ]
  },
  {
   "cell_type": "markdown",
   "metadata": {},
   "source": [
    "$\\mathbb{Q}$ represents the Rational Numbers\n",
    "Rational numbers include the Integers and any number that can be written as a fraction. \n",
    "\t\n",
    "Formally, $\\frac{p}{q}$ where $p, q \\in \\mathbb{Z}$ [this means $p$ and $q$ are _arbitrary_ (random) integers]\n",
    "\n",
    "Give a new example of a Rational Number:\n"
   ]
  },
  {
   "cell_type": "markdown",
   "metadata": {},
   "source": [
    "`YOUR ANSWER HERE`"
   ]
  },
  {
   "cell_type": "markdown",
   "metadata": {},
   "source": [
    "$\\mathbb{R}$ represents the Real Numbers\n",
    "\n",
    "The real numbers include the _rational_ numbers **and** _irrational_ numbers. Irrational numbers are those that cannot take the form of a fraction. This includes $\\pi$ and roots like $\\sqrt{5}$.\n",
    "\n",
    "Give a new example of a Real Number"
   ]
  },
  {
   "cell_type": "markdown",
   "metadata": {},
   "source": [
    "`YOUR ANSWER HERE`"
   ]
  },
  {
   "cell_type": "markdown",
   "metadata": {},
   "source": [
    "For this lesson, we will focus on the Rational Numbers! "
   ]
  },
  {
   "cell_type": "markdown",
   "metadata": {},
   "source": [
    "### What is a Group?\n",
    "\n",
    "A group is a set (of numbers), together with a binary operation (+ or *) with the following properties:\n",
    "\n",
    "> Note: A binary operation means that the operation is completed on two numbers and a third is created \n",
    "(Ex. $2+2 = 4$, the two numbers taken are 2 and 2, they are added and the output of the operation is $4$)\n",
    "\n",
    "- Associativity: $(a * b) * c = a * (b * c)$ where $a, b, c$ represent numbers\n",
    "    - Existence of identity: For adding, the existence identity is 0 where: $0 + a = a$\n",
    "    - For multiplying, the existence identity is 1 where: $1 * a = a$\n",
    "    - This essentially means that the element exists\n",
    "\n",
    "- Existence of inverses: the existence of inverses allows us to subtract and divide\n",
    "    - Given a number $a$, there is some number $b$ where \n",
    "        - For adding: $a + b = 0$\n",
    "        - For multiplying: $a * b = 1$\n",
    "- Commutativity: $a * b = b * a$\n",
    "    - These groups are called *Abelian*\n",
    "\n",
    "The groups we will be working with are the rational numbers and both operations. However, with multiplication, we cannot include the number 0. These are Abelian and have all four properties."
   ]
  },
  {
   "cell_type": "markdown",
   "metadata": {},
   "source": [
    "If $a = 0$, $\\frac{b}{0}$ is an impossible number for any number $b$. We refer to this as *undefined*. Why might any number divided by $0$ be undefined. \n",
    "> (Hint: Think about the number 6 being divided into 0, there are no 6’s in 0. Now think about the number 0 being divided into 6.) \n",
    "\n",
    "Give it your best shot!\n"
   ]
  },
  {
   "cell_type": "markdown",
   "metadata": {},
   "source": [
    "`YOUR ANSWER HERE`"
   ]
  },
  {
   "cell_type": "markdown",
   "metadata": {},
   "source": [
    "Basically, the way we can think about it, is that $0$ takes up no space in a number, so we can add an infinite amount of $0$’s into $6$, or any number! This is a simplified explanation of why $\\frac{b}{0}$ is undefined."
   ]
  },
  {
   "cell_type": "markdown",
   "metadata": {},
   "source": [
    "#### ($\\mathbb{Q}$, +) Adding!\n",
    "\n",
    "If we have the number $10$, what is its inverse and how do we show its existence?\n",
    "\n",
    "Assign our number to a variable like $a$. Use the Existence of Identity and Inverses to assign other variables depicting these expressions. We’ll provide an example of setting a variable name this time, but afterwards, it’s all you! "
   ]
  },
  {
   "cell_type": "code",
   "execution_count": 6,
   "metadata": {},
   "outputs": [],
   "source": [
    "a = ...\n",
    "a_add_identity = ...\n",
    "a_add_inverse = ..."
   ]
  },
  {
   "cell_type": "markdown",
   "metadata": {},
   "source": [
    "#### ($\\mathbb{Q} \\backslash \\{0\\}$, x) Multiplying!\n",
    "\n",
    "The above is formal notation, but simply means we are using the rational numbers without $0$. We will use your variable, $a$, again! As you already assigned it before, the notebook has stored the information that, $a$ always equals $10$."
   ]
  },
  {
   "cell_type": "code",
   "execution_count": 7,
   "metadata": {},
   "outputs": [],
   "source": [
    "a_multi_identity = ...\n",
    "a_mult_inverse = ..."
   ]
  },
  {
   "cell_type": "markdown",
   "metadata": {},
   "source": [
    "### Manipulating Equations Using Group Properties\n",
    "\n",
    "Recently, you have worked with equations and variables. We know variables are placeholders for values with a significant and specific meaning. We know we can use variables in equations to find important information based on constraints.\n",
    "\n",
    "Equations can start to get difficult to solve for, and it is important to develop solid techniques for manipulating. We can use the properties of groups to conduct arithmetic required to manipulate equations.\n",
    "\n",
    "When looking at moving equations around, we have to maintain symmetry. If we were to operate on only one side of an equation without changing the other, would we still have a valid equation? Explain your reasoning.\n"
   ]
  },
  {
   "cell_type": "markdown",
   "metadata": {},
   "source": [
    "`YOUR ANSWER HERE`"
   ]
  },
  {
   "cell_type": "markdown",
   "metadata": {},
   "source": [
    "If we are not adhering to the Existence of Identity (this means only adding 0 or multiplying by 1) we now have a completely different equation than we started with. However, if we add the same number to both sides, or multiply a number to both sides, the equation remains equal!"
   ]
  },
  {
   "cell_type": "markdown",
   "metadata": {},
   "source": [
    "Expression 1 and Expression 2 are equal to each other across the table\n",
    "| Expression 1   | Expression 2   |\n",
    "|:--------------:|:--------------:|\n",
    "|$ 5 $           |$ x $           |\n",
    "|$ 5 + 5 $       |$ x + 5 $       |\n",
    "|$ 5 + 5 + 5 $   |$ x + 5 + 5 $   |\n",
    "|$(5 + 5) + 5$   |$(5 + 5) + x$   |\n",
    "|$ 10 + 5 $      |$ 10 + x $      |\n",
    "\n",
    "Lets see another example!\n",
    "\n",
    "| Expression 1   | Expression 2   |\n",
    "|:--------------:|:--------------:|\n",
    "|$ 5 + x $       |$ 7 $           |\n",
    "|$ 5 + x + (-5) $|$ 7 + (-5)$ \\   |\n",
    "|$(5+(-5))+x$    |$ 2$            |\n",
    "|$0 + x$         |$ 2$            |\n",
    "|$ x $           |$ 2$            |"
   ]
  },
  {
   "cell_type": "markdown",
   "metadata": {},
   "source": [
    "What happens if there should be a coefficient in front of x? Can we add 2 and 7x like we can with 2 and 7?"
   ]
  },
  {
   "cell_type": "markdown",
   "metadata": {},
   "source": [
    "`YOUR ANSWER HERE`"
   ]
  },
  {
   "cell_type": "markdown",
   "metadata": {},
   "source": [
    "It turns out, we cannot add 2 and 7x together like 2 and 7. We can only combine like terms. What does this mean? \n",
    "\n",
    "This means we can only combine (add) variables with variables."
   ]
  },
  {
   "cell_type": "markdown",
   "metadata": {},
   "source": [
    "## Part 2 "
   ]
  },
  {
   "cell_type": "markdown",
   "metadata": {},
   "source": [
    "### Ballin’ on a Budget!"
   ]
  },
  {
   "cell_type": "markdown",
   "metadata": {},
   "source": [
    "\n",
    "Now that we can manipulate equations and understand arithmetic conventions, we can use these skills to problem solve in real life situations. The typical application of these we see is in situations dealing with money. \n",
    "\n",
    "\n",
    "Let’s say your entire freshman class wins a pizza party. We need to decide how much of what food to buy! Let's explore this below!\n",
    "\n"
   ]
  },
  {
   "cell_type": "markdown",
   "metadata": {},
   "source": [
    "\n",
    "The school does not have unlimited funds though, and we need to stay within a budget while ensuring everyone is fed! We can describe this using equations. Here are some of our constraints:\n",
    "\n",
    "- Class size: $500$ students\n",
    "- Our total cost cannot exceed $\\$3000$\n",
    "- Each person will eat pizza and take a drink\n"
   ]
  },
  {
   "cell_type": "markdown",
   "metadata": {},
   "source": [
    "\n",
    "Now it’s your turn to represent this is an equation using [this dataset](https://www.kaggle.com/datasets/timmofeyy/-pizza-prices-menu-in-13-different-pizzerias) for prices from 13 pizza places. We have to be reasonable though. Describe how you may go about determining how much this pizza party will cost while keeping it within the budget. You can either click the link, or run the cell below to see different menus!\n"
   ]
  },
  {
   "cell_type": "code",
   "execution_count": 1,
   "metadata": {},
   "outputs": [],
   "source": [
    "from pizza import *"
   ]
  },
  {
   "cell_type": "code",
   "execution_count": 2,
   "metadata": {},
   "outputs": [
    {
     "data": {
      "application/vnd.jupyter.widget-view+json": {
       "model_id": "dde8bce92b0a4e4682efe4bbb9f42c1e",
       "version_major": 2,
       "version_minor": 0
      },
      "text/plain": [
       "interactive(children=(Dropdown(description='name', index=10, options=('peter_piper', 'pizza_inn', 'foxs_den', …"
      ]
     },
     "metadata": {},
     "output_type": "display_data"
    }
   ],
   "source": [
    "show_menus()"
   ]
  },
  {
   "cell_type": "markdown",
   "metadata": {},
   "source": [
    "\n",
    "`Your Answer here`\n",
    "\n"
   ]
  },
  {
   "cell_type": "markdown",
   "metadata": {},
   "source": [
    "Maybe you mentioned the number of slices each student gets based on how expensive the pizza was, or maybe that you wanted to include a side dish to mix things up!"
   ]
  },
  {
   "cell_type": "markdown",
   "metadata": {},
   "source": [
    "It’s time to represent this in your equation. Choose the pizza place you will be buying from in the dataset. You may have to go to their website to find specific information like slices of pizza per box. To select the dataset, choose a restraunt name from the menu below!\n",
    "\n",
    "Run the two cells below!"
   ]
  },
  {
   "cell_type": "code",
   "execution_count": 3,
   "metadata": {},
   "outputs": [
    {
     "data": {
      "application/vnd.jupyter.widget-view+json": {
       "model_id": "109667ae330440a291062e9bd2e1abf3",
       "version_major": 2,
       "version_minor": 0
      },
      "text/plain": [
       "Dropdown(index=10, options=('peter_piper', 'pizza_inn', 'foxs_den', 'papa_johns', 'blaze', 'pizza_hut', 'pie_f…"
      ]
     },
     "metadata": {},
     "output_type": "display_data"
    }
   ],
   "source": [
    "restraunt"
   ]
  },
  {
   "cell_type": "code",
   "execution_count": 4,
   "metadata": {},
   "outputs": [],
   "source": [
    "\n",
    "data = pick_data()\n"
   ]
  },
  {
   "cell_type": "markdown",
   "metadata": {},
   "source": [
    "> (Modules: I want students to be able to type out their equation at this point so they can manipulate it and solve by hand.)\n",
    "\n",
    "\n",
    "\n"
   ]
  },
  {
   "cell_type": "markdown",
   "metadata": {},
   "source": [
    "Type out your equation indicating what each variable means. There should be at least one equation and one inequality that will be graphed later. (Hint: What are our constraints? What are we trying to find?)\n",
    "\n"
   ]
  },
  {
   "cell_type": "markdown",
   "metadata": {},
   "source": [
    "`Enter your fomula here`"
   ]
  },
  {
   "cell_type": "markdown",
   "metadata": {},
   "source": [
    "\n",
    "Whatever your equation was, it probably took a form like this:\n",
    "\n",
    "$p_1 \\cdot x + p_2 \\cdot y = t \\ ; \\ t < 3000$\n",
    "\n",
    "where $p_1$ and $p_2$ relate to the price of pizza and drinks and $x$ and $y$ represent the number of boxes of pizza and drinks\n",
    "\n",
    "$x = \\frac{500 \\cdot n}{s}$\n",
    "\n",
    "where $n$ is the number of slices per person and $s$ is the number slices per box\n",
    "\n",
    "$y = \\frac{500}{l}$\n",
    "\n",
    "where $l$ is the number of servings per $2$ liter bottle of soda\n",
    "\n",
    "\t\n"
   ]
  },
  {
   "cell_type": "markdown",
   "metadata": {},
   "source": [
    "Using these equations, we can now use our arithmetic principles we learned earlier to determine whether or not the pizza prices we chose work with our budget! We will do this mathematically first.\n"
   ]
  },
  {
   "cell_type": "markdown",
   "metadata": {},
   "source": [
    "`Solve your equation here`"
   ]
  },
  {
   "cell_type": "markdown",
   "metadata": {},
   "source": [
    "\n",
    "Did your choices satisfy the constraint? If they did not, rewrite your equations using Papa John’s prices and pizza sizes. Rewrite your equation here if necessary:\n"
   ]
  },
  {
   "cell_type": "markdown",
   "metadata": {},
   "source": [
    "`New equations here (if necessary)`"
   ]
  },
  {
   "cell_type": "markdown",
   "metadata": {},
   "source": [
    "\n",
    "\n",
    "With the amount of freedom we have to choose what we can purchase, it is nice to be able to visualize all of our options! We can do this through graphing equations.\n",
    "\n",
    "We can color graphs using plotly to distinguish between different equations.\n",
    "\n"
   ]
  },
  {
   "cell_type": "markdown",
   "metadata": {},
   "source": [
    "Please set the variables called `pizza_price` and `drink_price` below with the price of a 2-liter bottle of soda and a pizza from the restraunt of your choosing. \n",
    "\n",
    "Please also set `slices` to the number of servings per pizza and `cups` to the numebr of servings per bottle of soda!\n",
    "\n",
    "There are already numbers in here from Papa Johns for your convenience, however please replace them with your own numbers to visualize your equation!\n",
    "\n",
    "We will use this to plot all the possible combinations which will satisfy our cost restraint!"
   ]
  },
  {
   "cell_type": "code",
   "execution_count": 4,
   "metadata": {},
   "outputs": [
    {
     "data": {
      "text/html": [
       "<div>\n",
       "<style scoped>\n",
       "    .dataframe tbody tr th:only-of-type {\n",
       "        vertical-align: middle;\n",
       "    }\n",
       "\n",
       "    .dataframe tbody tr th {\n",
       "        vertical-align: top;\n",
       "    }\n",
       "\n",
       "    .dataframe thead th {\n",
       "        text-align: right;\n",
       "    }\n",
       "</style>\n",
       "<table border=\"1\" class=\"dataframe\">\n",
       "  <thead>\n",
       "    <tr style=\"text-align: right;\">\n",
       "      <th></th>\n",
       "      <th>Pizza</th>\n",
       "      <th>Drink</th>\n",
       "      <th>Cost</th>\n",
       "    </tr>\n",
       "  </thead>\n",
       "  <tbody>\n",
       "    <tr>\n",
       "      <th>0</th>\n",
       "      <td>50.0</td>\n",
       "      <td>50.0</td>\n",
       "      <td>834.50</td>\n",
       "    </tr>\n",
       "    <tr>\n",
       "      <th>1</th>\n",
       "      <td>50.0</td>\n",
       "      <td>51.0</td>\n",
       "      <td>837.19</td>\n",
       "    </tr>\n",
       "    <tr>\n",
       "      <th>2</th>\n",
       "      <td>50.0</td>\n",
       "      <td>52.0</td>\n",
       "      <td>839.88</td>\n",
       "    </tr>\n",
       "    <tr>\n",
       "      <th>3</th>\n",
       "      <td>50.0</td>\n",
       "      <td>53.0</td>\n",
       "      <td>842.57</td>\n",
       "    </tr>\n",
       "    <tr>\n",
       "      <th>4</th>\n",
       "      <td>50.0</td>\n",
       "      <td>54.0</td>\n",
       "      <td>845.26</td>\n",
       "    </tr>\n",
       "    <tr>\n",
       "      <th>...</th>\n",
       "      <td>...</td>\n",
       "      <td>...</td>\n",
       "      <td>...</td>\n",
       "    </tr>\n",
       "    <tr>\n",
       "      <th>21204</th>\n",
       "      <td>200.0</td>\n",
       "      <td>70.0</td>\n",
       "      <td>2988.30</td>\n",
       "    </tr>\n",
       "    <tr>\n",
       "      <th>21205</th>\n",
       "      <td>200.0</td>\n",
       "      <td>71.0</td>\n",
       "      <td>2990.99</td>\n",
       "    </tr>\n",
       "    <tr>\n",
       "      <th>21206</th>\n",
       "      <td>200.0</td>\n",
       "      <td>72.0</td>\n",
       "      <td>2993.68</td>\n",
       "    </tr>\n",
       "    <tr>\n",
       "      <th>21207</th>\n",
       "      <td>200.0</td>\n",
       "      <td>73.0</td>\n",
       "      <td>2996.37</td>\n",
       "    </tr>\n",
       "    <tr>\n",
       "      <th>21208</th>\n",
       "      <td>200.0</td>\n",
       "      <td>74.0</td>\n",
       "      <td>2999.06</td>\n",
       "    </tr>\n",
       "  </tbody>\n",
       "</table>\n",
       "<p>21209 rows × 3 columns</p>\n",
       "</div>"
      ],
      "text/plain": [
       "       Pizza  Drink     Cost\n",
       "0       50.0   50.0   834.50\n",
       "1       50.0   51.0   837.19\n",
       "2       50.0   52.0   839.88\n",
       "3       50.0   53.0   842.57\n",
       "4       50.0   54.0   845.26\n",
       "...      ...    ...      ...\n",
       "21204  200.0   70.0  2988.30\n",
       "21205  200.0   71.0  2990.99\n",
       "21206  200.0   72.0  2993.68\n",
       "21207  200.0   73.0  2996.37\n",
       "21208  200.0   74.0  2999.06\n",
       "\n",
       "[21209 rows x 3 columns]"
      ]
     },
     "execution_count": 4,
     "metadata": {},
     "output_type": "execute_result"
    }
   ],
   "source": [
    "plot_party(pizza_price = 14, drink_price = 2.69, slices = 10, cups = 10)"
   ]
  },
  {
   "cell_type": "markdown",
   "metadata": {},
   "source": [
    "> (Modules: Is there a way to include the coordinate of intersection when graphing?)"
   ]
  },
  {
   "cell_type": "markdown",
   "metadata": {},
   "source": [
    "Your graphs look great! What do you notice about the plane?"
   ]
  },
  {
   "cell_type": "markdown",
   "metadata": {},
   "source": [
    "`Your answer here`"
   ]
  },
  {
   "cell_type": "markdown",
   "metadata": {},
   "source": [
    "\n",
    "Yes! The $x$ and $y$ points of each point on the plane represent hoew many pizza or drinks we can get and the $z$ point represents how much it costs. \n",
    "\n",
    "Maybe you have a lot of room in your budget to spend more! Maybe you want to get a fun side like wings or breadsticks to change things up. How could we find how many sides we can get that stays in our budget? That’s right, another equation!"
   ]
  },
  {
   "cell_type": "markdown",
   "metadata": {},
   "source": [
    "\n",
    "You probably developed a new equation (or multiple) that relates to how many students can enjoy each side and the prices. In order to graph this, let’s rearrange our equations and replace p1x and p2y with the number of slices or drinks and prices we already found. \n",
    "\n",
    "For example, if I were to choose a 50-50 mix of large pepperoni and cheese pizzas from Domino’s with 2 slices of pizza per student and a 50-50 mix of Coca-Cola and Sprite 2-Liters then my equation to find the number of sides would look like this:\n",
    "\n",
    "$$x = \\frac{500 \\cdot 2}{8}$$ \t\t\t\t\n",
    "$$y = \\frac{500}{8}$$\t\t\t\t\t\n",
    "$$m = \\frac{500}{d}$$\t\n",
    "\n",
    "where $d$ represents the number of students that can enjoy a single order of the side\n",
    "\n",
    "\n",
    "$$(15.99 \\cdot 125) + (2.99 \\cdot 63) + p_3 \\cdot m \\leq 3000$$\n",
    "$$2187.12 + p_3 \\cdot m \\leq 3000 $$\n",
    "$$(2187.12 + (-2187.12))+ p_3 \\cdot m \\leq (3000+(-2187.12))$$\n",
    "$$ 0+p_3 \\cdot m \\leq 812.88$$\n",
    "$$p_3 \\cdot m \\leq 812.88$$\n",
    "$$p \\cdot 3 \\leq 812.88m$$\n",
    "\n",
    "where $m$ represents the number of sides and $p_3$ represents the price"
   ]
  },
  {
   "cell_type": "markdown",
   "metadata": {},
   "source": [
    "If you need to edit your equations, you can edit them in the previous cell. We will also be graphing these equations to determine the range of the number of sides we can get for the entire freshman class to enjoy!"
   ]
  },
  {
   "cell_type": "code",
   "execution_count": null,
   "metadata": {},
   "outputs": [],
   "source": [
    "def add_sides():\n",
    "    pass"
   ]
  },
  {
   "cell_type": "markdown",
   "metadata": {},
   "source": [
    "List the side and the quantity you chose and describe how you know this is possible. Explain your reasoning!"
   ]
  },
  {
   "cell_type": "markdown",
   "metadata": {},
   "source": [
    "`Your answer here`"
   ]
  },
  {
   "cell_type": "markdown",
   "metadata": {},
   "source": [
    "Let’s create a table of the possible sides we could have chosen and the possible totals. Double click on the cell below to edit the table!. Use the \"|\" character to seperate columns and the `Enter` button to seperate rows!"
   ]
  },
  {
   "cell_type": "markdown",
   "metadata": {},
   "source": [
    "\n",
    "|Possible Sides | Pizza $ * # of boxes | Drink $ * # of drinks | Side $ * quantity|\n",
    "|---------------|----------------------|-----------------------|------------------|\n",
    "|“breadsticks”  | `Insert`             | `Insert`              | 14.99*20         |\n",
    "|“wings”        | `Insert`             | `Insert`              | 15.50*20         |\n",
    "|“salad”        | `Insert`             | `Insert`              | 2.99*250         |"
   ]
  },
  {
   "cell_type": "markdown",
   "metadata": {},
   "source": [
    "Great work! This was just one example of solving a system of equations through graphing and actual computation. What methods did you use to solve these systems of equations?"
   ]
  },
  {
   "cell_type": "markdown",
   "metadata": {},
   "source": [
    "`Your answer here`"
   ]
  },
  {
   "cell_type": "markdown",
   "metadata": {},
   "source": [
    "What other situations might we use a system of equations where we must consider constraints and have multiple factors to consider?"
   ]
  },
  {
   "cell_type": "markdown",
   "metadata": {},
   "source": [
    "`Your answer here`"
   ]
  },
  {
   "cell_type": "markdown",
   "metadata": {},
   "source": [
    "You may have mentioned money building interest, building projects, and more! "
   ]
  }
 ],
 "metadata": {
  "kernelspec": {
   "display_name": "Python 3.10.1 64-bit",
   "language": "python",
   "name": "python3"
  },
  "language_info": {
   "codemirror_mode": {
    "name": "ipython",
    "version": 3
   },
   "file_extension": ".py",
   "mimetype": "text/x-python",
   "name": "python",
   "nbconvert_exporter": "python",
   "pygments_lexer": "ipython3",
   "version": "3.10.1"
  },
  "orig_nbformat": 4,
  "vscode": {
   "interpreter": {
    "hash": "aee8b7b246df8f9039afb4144a1f6fd8d2ca17a180786b69acc140d282b71a49"
   }
  }
 },
 "nbformat": 4,
 "nbformat_minor": 2
}
